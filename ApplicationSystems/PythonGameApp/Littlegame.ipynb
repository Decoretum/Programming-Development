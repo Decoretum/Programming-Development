{
 "cells": [
  {
   "cell_type": "code",
   "execution_count": null,
   "id": "5dca1178-8d04-4a52-972c-333fb388cdf1",
   "metadata": {},
   "outputs": [],
   "source": [
    "# Little game I made. Dark Overlord Character\n",
    "# Gael Estrera"
   ]
  },
  {
   "cell_type": "code",
   "execution_count": null,
   "id": "e646a215-4f7c-4038-ae0d-a895ac144d5b",
   "metadata": {},
   "outputs": [],
   "source": [
    "#Notes\n",
    "#Set maximum output to 100000"
   ]
  },
  {
   "cell_type": "code",
   "execution_count": 1,
   "id": "4c3666f4-db3b-4022-94a0-a3ff2e344812",
   "metadata": {
    "tags": []
   },
   "outputs": [
    {
     "name": "stdout",
     "output_type": "stream",
     "text": [
      "\n",
      "\n",
      "What is the name of the one who calls the power of the Abyss?\n"
     ]
    },
    {
     "name": "stdin",
     "output_type": "stream",
     "text": [
      " Gael\n"
     ]
    },
    {
     "name": "stdout",
     "output_type": "stream",
     "text": [
      "\n",
      "\n",
      "Welcome, Gael, our Abyssal Overlord\n",
      "\n",
      "\n",
      "What is the deed for today, my Overlord?\n",
      "a = Destroy the entities with destruction magic\n",
      "b = Harvest essence\n",
      "c = Gather energy from nearby Magi lines\n",
      "d = Convert essence to magicka\n",
      "e = Show Power Status\n",
      "f = End Operation\n",
      "g = Adventure through the land of Bladespire\n"
     ]
    },
    {
     "name": "stdin",
     "output_type": "stream",
     "text": [
      " a\n"
     ]
    },
    {
     "name": "stdout",
     "output_type": "stream",
     "text": [
      "\n",
      "\n",
      "You do not have enough energy to use your destruction spells\n",
      "\n",
      "\n",
      "What is the deed for today, my Overlord?\n",
      "a = Destroy the entities with destruction magic\n",
      "b = Harvest essence\n",
      "c = Gather energy from nearby Magi lines\n",
      "d = Convert essence to magicka\n",
      "e = Show Power Status\n",
      "f = End Operation\n",
      "g = Adventure through the land of Bladespire\n"
     ]
    },
    {
     "name": "stdin",
     "output_type": "stream",
     "text": [
      " e\n"
     ]
    },
    {
     "name": "stdout",
     "output_type": "stream",
     "text": [
      "\n",
      "\n",
      "Initializing Power status display\n",
      "\n",
      "\n",
      "Gael's Energy: 0\n",
      "Gael's Essence: 0\n",
      "\n",
      "\n",
      "What is the deed for today, my Overlord?\n",
      "a = Destroy the entities with destruction magic\n",
      "b = Harvest essence\n",
      "c = Gather energy from nearby Magi lines\n",
      "d = Convert essence to magicka\n",
      "e = Show Power Status\n",
      "f = End Operation\n",
      "g = Adventure through the land of Bladespire\n"
     ]
    },
    {
     "name": "stdin",
     "output_type": "stream",
     "text": [
      " c\n"
     ]
    },
    {
     "name": "stdout",
     "output_type": "stream",
     "text": [
      "\n",
      "\n",
      "Commencing Magicka Collection Procedures:\n",
      "\n",
      "\n",
      "a = Expository speeches\n",
      "b = Dream Scaping\n"
     ]
    },
    {
     "name": "stdin",
     "output_type": "stream",
     "text": [
      " a\n"
     ]
    },
    {
     "name": "stdout",
     "output_type": "stream",
     "text": [
      "\n",
      "\n",
      "Initializing speech input protocol.\n",
      "Do not hesitate to express your thoughts and emotions.\n",
      "\n",
      "\n"
     ]
    },
    {
     "name": "stdin",
     "output_type": "stream",
     "text": [
      " Hello there\n"
     ]
    },
    {
     "name": "stdout",
     "output_type": "stream",
     "text": [
      "\n",
      "\n",
      "Gael's Energy: 1\n",
      "\n",
      "\n",
      "Initializing speech input protocol.\n",
      "Do not hesitate to express your thoughts and emotions.\n",
      "\n",
      "\n"
     ]
    },
    {
     "name": "stdin",
     "output_type": "stream",
     "text": [
      " Hi there\n"
     ]
    },
    {
     "name": "stdout",
     "output_type": "stream",
     "text": [
      "\n",
      "\n",
      "Gael's Energy: 2\n",
      "\n",
      "\n",
      "Initializing speech input protocol.\n",
      "Do not hesitate to express your thoughts and emotions.\n",
      "\n",
      "\n"
     ]
    },
    {
     "name": "stdin",
     "output_type": "stream",
     "text": [
      " Fuck me\n"
     ]
    },
    {
     "name": "stdout",
     "output_type": "stream",
     "text": [
      "\n",
      "\n",
      "Gael's Energy: 3\n",
      "\n",
      "\n",
      "Initializing speech input protocol.\n",
      "Do not hesitate to express your thoughts and emotions.\n",
      "\n",
      "\n"
     ]
    },
    {
     "name": "stdin",
     "output_type": "stream",
     "text": [
      " I am finished\n"
     ]
    },
    {
     "name": "stdout",
     "output_type": "stream",
     "text": [
      "\n",
      "\n",
      "Gael's Energy: 4\n",
      "\n",
      "\n",
      "Our Overlord, your efforts and intellectual efforts are not in vain.\n",
      "We are priveleged to hear your insights.\n",
      "\n",
      "\n",
      "Gael's Energy: 4\n",
      "\n",
      "\n",
      "Gael's Energy: 4\n",
      "\n",
      "\n",
      "What is the deed for today, my Overlord?\n",
      "a = Destroy the entities with destruction magic\n",
      "b = Harvest essence\n",
      "c = Gather energy from nearby Magi lines\n",
      "d = Convert essence to magicka\n",
      "e = Show Power Status\n",
      "f = End Operation\n",
      "g = Adventure through the land of Bladespire\n"
     ]
    },
    {
     "name": "stdin",
     "output_type": "stream",
     "text": [
      " e\n"
     ]
    },
    {
     "name": "stdout",
     "output_type": "stream",
     "text": [
      "\n",
      "\n",
      "Initializing Power status display\n",
      "\n",
      "\n",
      "Gael's Energy: 4\n",
      "Gael's Essence: 0\n",
      "\n",
      "\n",
      "What is the deed for today, my Overlord?\n",
      "a = Destroy the entities with destruction magic\n",
      "b = Harvest essence\n",
      "c = Gather energy from nearby Magi lines\n",
      "d = Convert essence to magicka\n",
      "e = Show Power Status\n",
      "f = End Operation\n",
      "g = Adventure through the land of Bladespire\n"
     ]
    },
    {
     "name": "stdin",
     "output_type": "stream",
     "text": [
      " g\n"
     ]
    },
    {
     "name": "stdout",
     "output_type": "stream",
     "text": [
      "\n",
      "\n",
      "\n",
      "\n",
      "A battlemage appeared from the combustion of flames!\n",
      "He specializes in the art of Darkness!\n",
      "What is to be done?\n",
      "a = Fireball\n",
      "b = Lightning Strike\n",
      "c = Water Surge\n"
     ]
    },
    {
     "name": "stdin",
     "output_type": "stream",
     "text": [
      " a\n"
     ]
    },
    {
     "name": "stdout",
     "output_type": "stream",
     "text": [
      "\n",
      "\n",
      "You burn the Darkness Mage with the power of the Fireball!\n",
      "\n",
      "\n",
      "You absorb 5 energy from the Darkness Mage\n",
      "\n",
      "\n",
      "Gael's Energy: 7\n",
      "\n",
      "\n",
      "\n",
      "\n",
      "A battlemage appeared from the combustion of flames!\n",
      "He specializes in the art of Darkness!\n",
      "What is to be done?\n",
      "a = Fireball\n",
      "b = Lightning Strike\n",
      "c = Water Surge\n"
     ]
    },
    {
     "name": "stdin",
     "output_type": "stream",
     "text": [
      " b\n"
     ]
    },
    {
     "name": "stdout",
     "output_type": "stream",
     "text": [
      "You strike the Darkness Mage with Lightning, and the Darkness Mage cannot contest the power of lightning!\n",
      "\n",
      "\n",
      "However, he was able to retreat\n",
      "You absorb 3 energy from the Darkness Mage\n",
      "\n",
      "\n",
      "Gael's Energy: 9.5\n",
      "\n",
      "\n",
      "\n",
      "\n",
      "A battlemage appeared from the combustion of flames!\n",
      "He specializes in the art of Darkness!\n",
      "What is to be done?\n",
      "a = Fireball\n",
      "b = Lightning Strike\n",
      "c = Water Surge\n"
     ]
    },
    {
     "name": "stdin",
     "output_type": "stream",
     "text": [
      " c\n"
     ]
    },
    {
     "name": "stdout",
     "output_type": "stream",
     "text": [
      "The water surge has no effects on the Darkness Mage!\n",
      "\n",
      "\n",
      "The Darkness Mage was able to leech off 4 energy from you and escaped\n",
      "\n",
      "\n",
      "Gael's Energy: 5.5\n",
      "\n",
      "\n",
      "\n",
      "\n",
      "A battlemage appeared from the combustion of flames!\n",
      "He specializes in the art of Light!\n",
      "What is to be done?\n",
      "a = Fireball\n",
      "b = Lightning Strike\n",
      "c = Water Surge\n"
     ]
    },
    {
     "name": "stdin",
     "output_type": "stream",
     "text": [
      " a\n"
     ]
    }
   ],
   "source": [
    "import random\n",
    "fireball = 'a = Fireball'\n",
    "lightning = 'b = Lightning Strike'\n",
    "water = 'c = Water Surge'\n",
    "menu = 'd = Back to Main Commands'\n",
    "\n",
    "garden = 'a = Garden of Mystrus'\n",
    "castle = 'b = Castle of Garmadan'\n",
    "mansion = 'c = Mansion of Decoretum'\n",
    "\n",
    "words = 'a = Expository speeches'\n",
    "words1 = 'b = Dream Scaping'\n",
    "\n",
    "f = 'Fireball = 4 energy'\n",
    "l = 'Lightning Strike = 8 energy'\n",
    "w = 'Water Surge = 5 energy'\n",
    "\n",
    "energychoices = words+'\\n'+words1\n",
    "listchoices = f+'\\n'+l+'\\n'+w\n",
    "spellchoices = fireball+'\\n'+lightning+'\\n'+water+'\\n'+menu\n",
    "spellchoices1 = spellchoices = fireball+'\\n'+lightning+'\\n'+water\n",
    "harvestchoices = garden +'\\n'+castle+'\\n'+mansion\n",
    "class Decoretum():\n",
    "    \n",
    "    def intro(self):\n",
    "        print('\\n')\n",
    "        print('What is the name of the one who calls the power of the Abyss?')\n",
    "        self.name = str(input())\n",
    "        if self.name != '':\n",
    "            print('\\n')\n",
    "            print('Welcome, {man}, our Abyssal Overlord'.format(man=self.name))\n",
    "            self.start()\n",
    "        \n",
    "            \n",
    "    def __init__(self):\n",
    "        self.energy = 0\n",
    "        self.essence = 0\n",
    "        self.answer = 0\n",
    "        \n",
    "    def start(self):\n",
    "        print('\\n')\n",
    "        print('What is the deed for today, my Overlord?')\n",
    "        print('a = Destroy the entities with destruction magic')\n",
    "        print('b = Harvest essence')\n",
    "        print('c = Gather energy from nearby Magi lines')\n",
    "        print('d = Convert essence to magicka')\n",
    "        print('e = Show Power Status')\n",
    "        print('f = End Operation')\n",
    "        print('g = Adventure through the land of Bladespire')\n",
    "        answer3 = input()\n",
    "        if answer3 == 'a':\n",
    "            self.destruction()\n",
    "            \n",
    "        elif answer3 == 'b':\n",
    "            print('\\n')\n",
    "            print('We shall start harvesting essence for you, Overlord.')\n",
    "            print('We will initialize harvest.')\n",
    "            print(harvestchoices)\n",
    "            answer4 = input()\n",
    "            if answer4 == 'a':\n",
    "                print('\\n')\n",
    "                print('Harvesting essence from the Garden')\n",
    "            if answer4 == 'b':\n",
    "                print('\\n')\n",
    "                print('Harvesting essence from the Castle')\n",
    "            if answer4 == 'c':\n",
    "                print('\\n')\n",
    "                print('Harvesting essence from the Mansion')\n",
    "            self.essence += 3\n",
    "            self.essenceshow()\n",
    "            self.start()\n",
    "            \n",
    "                 \n",
    "        elif answer3 == 'c':\n",
    "            print('\\n')\n",
    "            print('Commencing Magicka Collection Procedures:')\n",
    "            self.magicka()\n",
    "            \n",
    "            \n",
    "        \n",
    "        elif answer3 == 'd':\n",
    "            print('\\n')\n",
    "            print('Converting essence to energy will be initiated')\n",
    "            self.convert()\n",
    "            self.start()\n",
    "        \n",
    "        elif answer3 == 'e':\n",
    "            print('\\n')\n",
    "            print('Initializing Power status display')\n",
    "            self.powershow()\n",
    "            self.start()\n",
    "            \n",
    "        elif answer3 == 'f':\n",
    "            print('\\n')\n",
    "            print('We will wait in the Abyss until time heeds for our call.')\n",
    "            print('--------------------------------------------------------')\n",
    "            \n",
    "        elif answer3 == 'g':\n",
    "            self.battle()       \n",
    "        \n",
    "        else:\n",
    "            print('\\n')\n",
    "            print('Input does not correspond with the available options.')\n",
    "            self.start()\n",
    "            \n",
    "            \n",
    "    def energytake(self):\n",
    "        self.energy += self.answer\n",
    "        \n",
    "    def energyshow(self):\n",
    "        print('\\n')\n",
    "        print('{man}\\'s Energy:'.format(man=self.name),end=' ')\n",
    "        print(self.energy)\n",
    "        \n",
    "    def essenceshow(self):\n",
    "        print('\\n')\n",
    "        print('{man}\\'s Essence:'.format(man=self.name),end=' ')\n",
    "        print(self.essence)\n",
    "        \n",
    "    def powershow(self):\n",
    "        print('\\n')\n",
    "        print('{man}\\'s Energy:'.format(man=self.name),end=' ')\n",
    "        print(self.energy)\n",
    "        print('{man}\\'s Essence:'.format(man=self.name),end=' ')\n",
    "        print(self.essence)\n",
    "        \n",
    "    def convert(self):\n",
    "        self.essence -= 1\n",
    "        self.energy += 1\n",
    "        print('\\n')\n",
    "        print('Essence to Energy conversion complete')\n",
    "        self.essenceshow()\n",
    "        \n",
    "    def destruction(self):\n",
    "        if self.energy > 0:\n",
    "            print('\\n')\n",
    "            print('Destruction is at hand! Choose your spells:')\n",
    "            print(spellchoices)\n",
    "            print('\\n')\n",
    "            print(listchoices)\n",
    "            self.energyshow()\n",
    "            answer9 = input()\n",
    "    \n",
    "            if answer9 == 'a':\n",
    "                if self.energy < 4:\n",
    "                    print('\\n')\n",
    "                    print('You do not have enough energy for this spell')\n",
    "                    self.destruction()\n",
    "                else:\n",
    "                    print('\\n')\n",
    "                    print('You cast a magical fireball towards your enemies!')\n",
    "                    self.energy -= 4\n",
    "                    self.destruction()\n",
    "            if answer9 == 'b':\n",
    "                if self.energy < 8:\n",
    "                    print('\\n')\n",
    "                    print('You do not have enough energy for this spell')\n",
    "                    self.destruction()\n",
    "                else:\n",
    "                    print('\\n')\n",
    "                    print('You decimate the mana and lifeforce of your enemies with a thunderous strike!')\n",
    "                    self.energy -= 8\n",
    "                    self.destruction()\n",
    "            if answer9 == 'c':\n",
    "                if self.energy < 5:\n",
    "                    print('\\n')\n",
    "                    print('You do not have enough energy for this spell')\n",
    "                    self.destruction()\n",
    "                else:\n",
    "                    print('\\n')\n",
    "                    print('You swallow the lifeforce of the enemies with nature\\'s aquatic wrath!')\n",
    "                    print('You gain 2 energy!')\n",
    "                    self.energy -= 5\n",
    "                    self.energy += 2\n",
    "                    self.destruction()\n",
    "            if answer9 == 'd':\n",
    "                print('\\n')\n",
    "                print('Back to Main Commands')\n",
    "                self.start()\n",
    "    \n",
    "        else:\n",
    "            print('\\n')\n",
    "            print('You do not have enough energy to use your destruction spells')\n",
    "            self.start()\n",
    "            \n",
    "    def magicka(self):\n",
    "        print('\\n')\n",
    "        print(energychoices)\n",
    "        answer5 = str(input())\n",
    "        while True:   \n",
    "                if answer5 == 'a':\n",
    "                    print('\\n')\n",
    "                    print('Initializing speech input protocol.')\n",
    "                    print('Do not hesitate to express your thoughts and emotions.')\n",
    "                    print('\\n')\n",
    "                    answer6 = input()\n",
    "                    \n",
    "                    hasnumber = any(map(str.isdigit,answer6))\n",
    "                    \n",
    "                    if answer6 != '' and hasnumber == False:\n",
    "                        self.energy+=1\n",
    "                        self.energyshow()\n",
    "                    \n",
    "                    if answer6 != '' and hasnumber == True:\n",
    "                        print('You cannot input digits')\n",
    "                    \n",
    "                        \n",
    "                    if answer6 == 'I am finished':\n",
    "                        print('\\n')\n",
    "                        print('Our Overlord, your efforts and intellectual efforts are not in vain.')\n",
    "                        print('We are priveleged to hear your insights.')\n",
    "                        self.energyshow()\n",
    "                        break\n",
    "        \n",
    "        \n",
    "        self.energyshow()\n",
    "        self.start()\n",
    "        \n",
    "        \n",
    "    def battle(self):\n",
    "        print('\\n')\n",
    "        say = random.randint(1,1)\n",
    "        yes = random.randint(1,2)\n",
    "        yeswhat = ''\n",
    "        if yes == 1:\n",
    "            yeswhat = 'Darkness'\n",
    "        elif yes == 2:\n",
    "            yeswhat = 'Light'\n",
    "        if say == 1:\n",
    "            print('\\n')\n",
    "            print('A battlemage appeared from the combustion of flames!')\n",
    "            print('He specializes in the art of {what}!'.format(what = yeswhat))\n",
    "            print('What is to be done?')\n",
    "            print(spellchoices1)\n",
    "            answer21 = input()\n",
    "            if yes == 1 and answer21 == 'a':\n",
    "                self.energy += 3\n",
    "                print('\\n')\n",
    "                print('You burn the Darkness Mage with the power of the Fireball!')\n",
    "                print('\\n')\n",
    "                print('You absorb 5 energy from the Darkness Mage')\n",
    "                self.energyshow()\n",
    "                self.battle()\n",
    "                   \n",
    "            elif yes == 1 and answer21 == 'b':\n",
    "                self.energy += 2.5\n",
    "                print('You strike the Darkness Mage with Lightning, and the Darkness Mage cannot contest the power of lightning!')\n",
    "                print('\\n')\n",
    "                print('However, he was able to retreat')\n",
    "                print('You absorb 3 energy from the Darkness Mage')\n",
    "                self.energyshow()\n",
    "                self.battle()\n",
    "                    \n",
    "                    \n",
    "            elif yes == 1 and answer21 == 'c':\n",
    "                self.energy -= 4\n",
    "                print('The water surge has no effects on the Darkness Mage!')\n",
    "                print('\\n')\n",
    "                print('The Darkness Mage was able to leech off 4 energy from you and escaped')\n",
    "                self.energyshow()\n",
    "                self.battle()\n",
    "        \n",
    "        \n",
    "        \n",
    "me = Decoretum()\n",
    "me.intro()\n",
    "\n",
    "\n"
   ]
  },
  {
   "cell_type": "code",
   "execution_count": null,
   "id": "caa255c4-3d11-4d9c-8107-e334f67ceae4",
   "metadata": {},
   "outputs": [],
   "source": []
  }
 ],
 "metadata": {
  "kernelspec": {
   "display_name": "Python 3 (ipykernel)",
   "language": "python",
   "name": "python3"
  },
  "language_info": {
   "codemirror_mode": {
    "name": "ipython",
    "version": 3
   },
   "file_extension": ".py",
   "mimetype": "text/x-python",
   "name": "python",
   "nbconvert_exporter": "python",
   "pygments_lexer": "ipython3",
   "version": "3.8.10"
  }
 },
 "nbformat": 4,
 "nbformat_minor": 5
}
