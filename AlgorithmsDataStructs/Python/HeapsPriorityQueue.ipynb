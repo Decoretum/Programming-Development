{
 "cells": [
  {
   "cell_type": "raw",
   "id": "41fce83a",
   "metadata": {},
   "source": [
    "Heaps and Priority Queue"
   ]
  },
  {
   "cell_type": "raw",
   "id": "e685ab96",
   "metadata": {},
   "source": [
    "Stores elements in a queue based on assigned priorities\n",
    "• Requires a key indicating priority when inserting into the queue\n",
    "• Pops the element with the lowest key (highest priority)\n",
    "\n",
    "Heap (tree implementation of priority queue)\n",
    "• A (complete) binary tree of entries such that:\n",
    "    ➢ For every node (except for the root), the node’s key is greater than or equal to \n",
    "        its parent’s key\n",
    "    ➢ The root contains the element with the minimum-valued key (highest priority)\n",
    "    \n",
    "• Most appropriate implementation: Array\n",
    "    ➢ Completeness of binary tree must be ensured after insertion or removal of \n",
    "    elements."
   ]
  },
  {
   "cell_type": "raw",
   "id": "19da0579",
   "metadata": {},
   "source": [
    "Insertion\n",
    "1. Add new element at the end of the array\n",
    "2. Compare the key of the newly added element with it’s parent’s key to check if \n",
    "    heap property is observed (new key is greater than or equal to parent key)\n",
    "3. If heap property is violated, swap new element with its parent element (left to right)\n",
    "        ➢ Repeat this process for the parent\n",
    "        ➢ Stop once heap property is satisfied\n",
    "4. In effect, the new element is “promoted” to its appropriate level"
   ]
  },
  {
   "cell_type": "raw",
   "id": "45c26120",
   "metadata": {},
   "source": [
    "Deletion/Removal\n",
    "1. Vacate root position of the tree\n",
    "    ➢ Element in the root to be returned by the method\n",
    "2. Get last element in the array, place it in the root position\n",
    "3. Compare this element’s key with the root’s children’s keys, and check if the heap \n",
    "property is observed\n",
    "4. If heap property is violated, swap root element with the child with minimum key \n",
    "value (left to right)\n",
    "    ➢ Repeat process for the child position\n",
    "    ➢ Stop when heap property is satisfied"
   ]
  },
  {
   "cell_type": "raw",
   "id": "e5cc904b",
   "metadata": {},
   "source": [
    "• Insertion and removal operations require traversing the tree through its height \n",
    "    ➢ Runtime: O(log n) => Worst case swaps: root to last leaf (height) and v.v. (aka, maximum swaps)\n",
    "    ➢ Remember! Height = O(log n)"
   ]
  },
  {
   "cell_type": "code",
   "execution_count": null,
   "id": "75f8a35b",
   "metadata": {},
   "outputs": [],
   "source": [
    "#Implementation\n"
   ]
  }
 ],
 "metadata": {
  "kernelspec": {
   "display_name": "Python 3 (ipykernel)",
   "language": "python",
   "name": "python3"
  },
  "language_info": {
   "codemirror_mode": {
    "name": "ipython",
    "version": 3
   },
   "file_extension": ".py",
   "mimetype": "text/x-python",
   "name": "python",
   "nbconvert_exporter": "python",
   "pygments_lexer": "ipython3",
   "version": "3.8.10"
  }
 },
 "nbformat": 4,
 "nbformat_minor": 5
}
