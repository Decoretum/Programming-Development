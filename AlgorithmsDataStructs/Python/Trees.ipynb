{
 "cells": [
  {
   "cell_type": "raw",
   "id": "82759fed",
   "metadata": {},
   "source": [
    "Trees\n",
    "\n",
    "-Support heirarchies by turning objects into nodes\n",
    "-parent-child relationshild between nodes\n",
    "-have root node R that has no parent\n",
    "-every node except node R has a parent\n",
    "-Leaf\n",
    "=node without children\n",
    "\n",
    "-Internal node\n",
    "=node that has atleast 1 child\n",
    "\n",
    "-Siblings\n",
    "=nodes that have a common parent\n",
    "\n",
    "-Ancestors\n",
    "=predecessors of the node\n",
    "\n",
    "-Subtree\n",
    "=any node including its descendants\n",
    "=can also have its own root node\n",
    "\n",
    "-Levels\n",
    "=Generation of a node (level)\n",
    "=root node is at level 0\n",
    "\n",
    "-Types\n",
    "1. Ordered Tree\n",
    "= Nodes have strict linear order\n",
    "\n",
    "2. Binary Tree\n",
    "= Ordered tree that have at most two children (left and right)\n",
    "\n",
    "\n",
    "\n",
    "-Important Terms\n",
    "\n",
    "1. Depth (node)\n",
    "- distance of a node from root\n",
    "\n",
    "2.Depth (tree)\n",
    "- distance of the farthest leaf of a tree to root of the tree\n",
    "- max level of a leaf in the tree\n",
    "\n",
    "\n",
    "3. Height (node)\n",
    "- distance of a node from its farthest descendant\n",
    "\n",
    "4. Height (tree)\n",
    "- height of the root of a tree from its farthest descendant (leaf)\n",
    "\n",
    "\n",
    "5. Degree (node)\n",
    "- number of children of that node\n",
    "\n",
    "6. Degree (Tree)\n",
    "- maximum degree of nodes\n"
   ]
  },
  {
   "cell_type": "code",
   "execution_count": 2,
   "id": "3cb19043",
   "metadata": {},
   "outputs": [],
   "source": [
    "#Implementation in Python\n",
    "\n",
    "class Tree:\n",
    "    def __init__(self,val = None):\n",
    "        if val != None:\n",
    "            self.val = val\n",
    "        else:\n",
    "            self.val = None\n",
    "        self.left = None\n",
    "        self.right = None\n"
   ]
  },
  {
   "cell_type": "raw",
   "id": "25c90a34",
   "metadata": {},
   "source": [
    "for array based implementation: \n",
    "if we want to know parent of Node 19, and we know 19 is at index 7,\n",
    "then the parent is at (7 // 2, integer division) == 3\n",
    "\n",
    "if parent index == p,\n",
    "left child index == 2p\n",
    "right child index == 2p + 1"
   ]
  },
  {
   "cell_type": "code",
   "execution_count": 8,
   "id": "81ac3a40",
   "metadata": {},
   "outputs": [],
   "source": [
    "First = Tree(69)\n",
    "First.left = Tree(21)\n",
    "First.right = Tree(70)\n",
    "\n",
    "First.left.left = Tree(81)\n",
    "First.left.right = Tree(71)\n"
   ]
  },
  {
   "cell_type": "code",
   "execution_count": 9,
   "id": "cc01c2a1",
   "metadata": {},
   "outputs": [
    {
     "name": "stdout",
     "output_type": "stream",
     "text": [
      "21\n",
      "70\n",
      "81\n",
      "71\n"
     ]
    }
   ],
   "source": [
    "print(First.left.val)\n",
    "print(First.right.val)\n",
    "\n",
    "print(First.left.left.val)\n",
    "print(First.left.right.val)"
   ]
  },
  {
   "cell_type": "raw",
   "id": "1fb30a2d",
   "metadata": {},
   "source": [
    "Binary Tree\n",
    "have a special node called root\n",
    "a tree which can have no more than 2 children\n",
    "A Binary tree or a subtree can be also empty, which means no children nodes \n",
    "\n",
    "-Properties\n",
    "1. If a binary tree contains N nodes at level L, then at most, a binary tree can have 2N nodes at level L + 1\n",
    "\n",
    "2. If a binary tree has at most 1 node at level 0 (root), then the tree will have at most 2^L nodes at level L "
   ]
  },
  {
   "cell_type": "raw",
   "id": "067e6966",
   "metadata": {},
   "source": [
    "Types of Binary Tree\n",
    "\n",
    "-Strict (Full binary tree) binary tree \n",
    "= degree of nodes of tree are either 0 (no children, a leaf node) or 2 (full) but not 1\n",
    "= for every N leaves in the binary tree, a full binary tree has 2N - 1 nodes\n",
    "\n",
    "-Complete binary tree\n",
    "= full tree with all nodes pushed to the left\n",
    "= full nodes (0 children or 2 children)\n",
    "= the tree fills (full) up nodes to the left FIRST (left children) for every level, then fills up nodes to the rest of the nodes \n",
    "\n",
    "-Almost complete binary tree \n",
    "= a special type of complete binary tree (inherits its properties)\n",
    "= however, a right child should have a corresponding left sibling, but left sibling could have no right sibling (hence, it violates the \"full\" property of a complete binary tree)\n",
    "\n",
    "-Perfect Binary Tree\n",
    "=every non-leaf nodes have exactly 2 children (full)\n",
    "=complete (for every level, left nodes are filled up or organized first)\n",
    "=at every level d, has 2^d nodes at every level, and 2^d - 1 non leaf nodes\n",
    "= total nodes (n): 2^d + 2^d-1 = 2*(2^d) - 1 =           2^(d+1) - 1\n",
    "= to get the height (d), we get logarithmic version of total nodes\n",
    "-> n = 2^(d+1) - 1    =     d+1 = log2 n =      d = log2 (n+1) - 1\n",
    "=traversal (root to leaf), average runtime and worst case is (log n), where n is number of nodes\n",
    "\n"
   ]
  },
  {
   "cell_type": "code",
   "execution_count": null,
   "id": "7a7dace6",
   "metadata": {},
   "outputs": [],
   "source": []
  }
 ],
 "metadata": {
  "kernelspec": {
   "display_name": "Python 3 (ipykernel)",
   "language": "python",
   "name": "python3"
  },
  "language_info": {
   "codemirror_mode": {
    "name": "ipython",
    "version": 3
   },
   "file_extension": ".py",
   "mimetype": "text/x-python",
   "name": "python",
   "nbconvert_exporter": "python",
   "pygments_lexer": "ipython3",
   "version": "3.8.10"
  }
 },
 "nbformat": 4,
 "nbformat_minor": 5
}
