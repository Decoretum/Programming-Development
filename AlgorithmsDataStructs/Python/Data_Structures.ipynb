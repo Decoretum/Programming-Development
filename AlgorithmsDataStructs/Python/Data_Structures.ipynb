{
 "cells": [
  {
   "cell_type": "markdown",
   "metadata": {
    "id": "10tFs7zdMXI-"
   },
   "source": [
    "In this notebook, we will see how each data structure discussed is implemented in Python without using any prebuilt Python library.  This give you the opportunity to see what is happening within these data structures and get more appreciation how the prebuilt libraries are implementing these algorithms more efficiently."
   ]
  },
  {
   "cell_type": "markdown",
   "metadata": {
    "id": "1jt1AKysTZ02"
   },
   "source": [
    "# The Node Class"
   ]
  },
  {
   "cell_type": "markdown",
   "metadata": {
    "id": "2gwLzvavM7DX"
   },
   "source": [
    "Before we start implementing data structures, let's make an object that will represent a memory slot.  We will call this the **node**."
   ]
  },
  {
   "cell_type": "code",
   "execution_count": null,
   "metadata": {
    "id": "GFeLboWmNGZp"
   },
   "outputs": [],
   "source": [
    "class Node:\n",
    "  def __init__(self, data = None, next=None): \n",
    "    self.data = data\n",
    "    self.next = next"
   ]
  },
  {
   "cell_type": "markdown",
   "metadata": {
    "id": "Ml4PDnu_NW4I"
   },
   "source": [
    "A **node** represents a memory address or slot.  Basically, it's a location in the memory where *data* is stored. Hence, our `node` class allows the assignment of our data to variable `data`.  As shown in [3.3 Linked List, Hash Tables and Hash Functions](https://ateneo.instructure.com/courses/26575/pages/3-dot-3-linked-list-hash-tables-and-hash-functions?module_item_id=1552801), one important capability of our nodes is the ability to point to the next node.  Therefore, if there is a succeeding node, we assign it as to variable `next`, else, `next = None`."
   ]
  },
  {
   "cell_type": "markdown",
   "metadata": {
    "id": "1GKNJdEiQ7mC"
   },
   "source": [
    "To maximize our exising `Node` class in an object-oriented sense, we can add more usual functions that allows us to access and modify attributes of our class:\n",
    "*   Change or delete data: `set_data`, `delete_data`\n",
    "*   Change or delete links: `set_next`, `unlink`\n",
    "*   Return data: `get_data`\n",
    "*   Return next node: `get_next`\n",
    "\n"
   ]
  },
  {
   "cell_type": "code",
   "execution_count": null,
   "metadata": {
    "id": "UPFtIo8yRdv_"
   },
   "outputs": [],
   "source": [
    "class Node:\n",
    "  def __init__(self, data = None, next=None): \n",
    "    self.data = data\n",
    "    self.next = next\n",
    "\n",
    "  def set_data(self, data):\n",
    "    self.data = data\n",
    "\n",
    "  def delete_data(self):\n",
    "    self.data = None\n",
    "\n",
    "  def set_next(self, next):\n",
    "    self.next = next\n",
    "\n",
    "  def unlink(self):\n",
    "    self.next = None\n",
    "\n",
    "  def get_data(self):\n",
    "    return self.data\n",
    "\n",
    "  def get_next(self):\n",
    "    return self.next"
   ]
  },
  {
   "cell_type": "markdown",
   "metadata": {
    "id": "eRPsL4K9TkIM"
   },
   "source": [
    "The `node` class above will be used extensively in building our data structures.  From now on, when referring to memory addresses or slots, we will use the term *node*.\n",
    "\n",
    "\n",
    "---\n",
    "\n"
   ]
  },
  {
   "cell_type": "markdown",
   "metadata": {
    "id": "5VIDEuRgT1gq"
   },
   "source": [
    "# Linked List\n",
    "\n",
    "A **linked list** is a collection of nodes, with each node explicitly referencing to the next one.  It benefits from a list's efficient `O(1)` writing and the explicit links makes searching for the next element efficient at `O(1)`.  If we traverse $n$ nodes, searching becomes `O(n)`.\n",
    "\n",
    "We then start building our class `LinkedList` and initialize some attributes."
   ]
  },
  {
   "cell_type": "code",
   "execution_count": null,
   "metadata": {
    "id": "4LvIZQJUZJyE"
   },
   "outputs": [],
   "source": [
    "class LinkedList:\n",
    "  def __init__(self, head = None):\n",
    "    self.head = head"
   ]
  },
  {
   "cell_type": "markdown",
   "metadata": {
    "id": "SiKhsyblZXoN"
   },
   "source": [
    "Here, we can initialize a `LinkedList` class with or without a node. If we have a starting node in mind, then we can initialize the start or `head` of the linked list using that node.  Else, `head = None`.  \n",
    "\n",
    "We can also include a function to check if the linked list is empty.  This can help us later in error handling such as removing elements in the linked list (that the block of code for removing element should stop when linked list is already empty). "
   ]
  },
  {
   "cell_type": "code",
   "execution_count": null,
   "metadata": {
    "id": "PG-YTZH4Q6YZ"
   },
   "outputs": [],
   "source": [
    "def is_empty(self):\n",
    "  return self.head == None"
   ]
  },
  {
   "cell_type": "markdown",
   "metadata": {
    "id": "u8--tX2OdlZI"
   },
   "source": [
    "We can also add other functions referring to accessing or modifying the linked list properties, mainly the `head` of the linked list."
   ]
  },
  {
   "cell_type": "code",
   "execution_count": null,
   "metadata": {
    "id": "lfmPqge8dtfC"
   },
   "outputs": [],
   "source": [
    "def get_head(self):\n",
    "  return self.head if not self.is_empty() else None"
   ]
  },
  {
   "cell_type": "markdown",
   "metadata": {
    "id": "StJ6kSFJKBr1"
   },
   "source": [
    "We also want to see the current state of the list.  Let's make another function that will print all the elements in the linked list."
   ]
  },
  {
   "cell_type": "code",
   "execution_count": null,
   "metadata": {
    "id": "cKbibfXVKH3w"
   },
   "outputs": [],
   "source": [
    "def print_list(self):\n",
    "  if not self.is_empty():\n",
    "    current = self.head\n",
    "    result = current.get_data()\n",
    "\n",
    "    while(current.next):\n",
    "      current = current.next\n",
    "      result = result + \", \" + current.get_data()\n",
    "      \n",
    "    return result\n",
    "  else:\n",
    "    return \"List is empty!\""
   ]
  },
  {
   "cell_type": "markdown",
   "metadata": {
    "id": "WulmJAKxav5L"
   },
   "source": [
    "## Adding an element to linked list\n",
    "\n",
    "If you noticed, we only have a reference to the head of the linked list.  If the list is empty, then adding an element to an empty linked list should be a matter of assigning a node as the head of the linked list.  But if the linked list is not empty, how does it work?\n",
    "\n",
    "As for the rest of the elements, we have to use the node's property `next` to determine the next node or if we have reached the last node of the list (`if node.next == None`). "
   ]
  },
  {
   "cell_type": "code",
   "execution_count": null,
   "metadata": {
    "id": "aqLPrVrxNWnd"
   },
   "outputs": [],
   "source": [
    "def add_element(self, data):\n",
    "  # Create a node object for the new data\n",
    "  newNode = Node(data)\n",
    "  print(\"Node for \" + str(newNode.get_data()) + \" is created!\")\n",
    "  \n",
    "  # Check if linked list is empty\n",
    "  if not self.is_empty():\n",
    "    # Set head node as current node\n",
    "    current = self.head\n",
    "\n",
    "    # Traverse the nodes until the last node is reached.  Last node is represented as next = None.\n",
    "    while (current.next):\n",
    "      current = current.next\n",
    "    \n",
    "    # Now at the last node, we assign the new node as the next node to the current end node, making the new node the new end node.\n",
    "    current.set_next(newNode)\n",
    "    print(current.get_next().get_data() + \" is inserted to the list!\")\n",
    "  else:\n",
    "    # Assign the new node as the head of the linked list\n",
    "    self.head = newNode\n",
    "    print(newNode.get_data() + \" is assigned as the head of the list!\")"
   ]
  },
  {
   "cell_type": "markdown",
   "metadata": {
    "id": "eClIW0dsiv_Q"
   },
   "source": [
    "## Inserting an element in the linked list\n",
    "\n",
    "Inserting is different from adding an element such that we will add the new element within the link and not at the end of the link. This can happen in 2 steps.  Given a certain index `i`:\n",
    "1.   Assign new node as `next` to node `i-1`\n",
    "2.   Assign the old node `i` as the `next` to new node\n",
    "\n"
   ]
  },
  {
   "cell_type": "code",
   "execution_count": null,
   "metadata": {
    "id": "XxmoSv6Sm71L"
   },
   "outputs": [],
   "source": [
    "def insert(self, index, data):\n",
    "  # Create a node object for the new data\n",
    "  newNode = Node(data)\n",
    "\n",
    "  # Check if linked list is empty\n",
    "  if not self.is_empty():\n",
    "    # Instantiate the counter\n",
    "    i = 0\n",
    "    \n",
    "    # Set head node as current node and instantiate another for node i-1\n",
    "    next = self.get_head()\n",
    "    previous = None\n",
    "\n",
    "    # Traverse the nodes until we arrive at the intended index\n",
    "    while (next.next and i < index):\n",
    "      previous = next\n",
    "      next = next.next\n",
    "      i += 1\n",
    "\n",
    "    # Two scenarios: either we arrive at end of the link or not\n",
    "\n",
    "    # Check if we are the end of the link or not\n",
    "    if not next.next:\n",
    "      previous.set_next(newNode)  # Step 1\n",
    "      newNode.set_next(next)      # Step 2\n",
    "      print(previous.next.get_data() + \" is now inserted at index \" + str(index) + \"!\")\n",
    "    else:\n",
    "      previous.set_next(newNode)  # Similar to add_element()\n",
    "      print(previous.next.get_data() + \" is added to the list!\")\n",
    "\n",
    "  else:\n",
    "    # Assign the new node as the head of the linked list\n",
    "    self.head = newNode\n",
    "    print(newNode.get_data() + \" is assigned as the head of the list!\")"
   ]
  },
  {
   "cell_type": "markdown",
   "metadata": {
    "id": "bXghGEF6MgVc"
   },
   "source": [
    "Let's combine all functions we did in the main class `LinkedList` and see it in action."
   ]
  },
  {
   "cell_type": "code",
   "execution_count": null,
   "metadata": {
    "id": "Hf72JFB4MFML"
   },
   "outputs": [],
   "source": [
    "class LinkedList:\n",
    "  def __init__(self, head = None):\n",
    "    self.head = head\n",
    "\n",
    "  def is_empty(self):\n",
    "    return self.head == None\n",
    "\n",
    "  def get_head(self):\n",
    "    return self.head if not self.is_empty() else None\n",
    "\n",
    "  def print_list(self):\n",
    "    if not self.is_empty():\n",
    "      current = self.head\n",
    "      result = current.get_data()\n",
    "\n",
    "      while(current.next):\n",
    "        current = current.next\n",
    "        result = result + \", \" + current.get_data()\n",
    "        \n",
    "      return result\n",
    "    else:\n",
    "      return \"List is empty!\"\n",
    "\n",
    "  def add_element(self, data):\n",
    "    # Create a node object for the new data\n",
    "    newNode = Node(data)\n",
    "    print(\"Node for \" + str(newNode.get_data()) + \" is created!\")\n",
    "    \n",
    "    # Check if linked list is empty\n",
    "    if not self.is_empty():\n",
    "      # Set head node as current node\n",
    "      current = self.head\n",
    "\n",
    "      # Traverse the nodes until the last node is reached.  Last node is represented as next = None.\n",
    "      while (current.next):\n",
    "        current = current.next\n",
    "      \n",
    "      # Now at the last node, we assign the new node as the next node to the current end node, making the new node the new end node.\n",
    "      current.set_next(newNode)\n",
    "      print(current.get_next().get_data() + \" is inserted to the list!\")\n",
    "    else:\n",
    "      # Assign the new node as the head of the linked list\n",
    "      self.head = newNode\n",
    "      print(newNode.get_data() + \" is assigned as the head of the list!\")\n",
    "\n",
    "  def insert(self, index, data):\n",
    "    # Create a node object for the new data\n",
    "    newNode = Node(data)\n",
    "\n",
    "    # Check if linked list is empty\n",
    "    if not self.is_empty():\n",
    "      # Instantiate the counter\n",
    "      i = 0\n",
    "      \n",
    "      # Set head node as current node and instantiate another for node i-1\n",
    "      next = self.get_head()\n",
    "      previous = None\n",
    "\n",
    "      # Traverse the nodes until we arrive at the intended index\n",
    "      while (next.next and i < index):\n",
    "        previous = next\n",
    "        next = next.next\n",
    "        i += 1\n",
    "\n",
    "      # Two scenarios: either we arrive at end of the link or not\n",
    "\n",
    "      # Check if we are the end of the link or not\n",
    "      if not next.next:\n",
    "        previous.set_next(newNode)  # Step 1\n",
    "        newNode.set_next(next)      # Step 2\n",
    "        print(previous.next.get_data() + \" is now inserted at index \" + str(index) + \"!\")\n",
    "      else:\n",
    "        previous.set_next(newNode)  # Similar to add_element()\n",
    "        print(previous.next.get_data() + \" is added to the list!\")\n",
    "\n",
    "    else:\n",
    "      # Assign the new node as the head of the linked list\n",
    "      self.head = newNode\n",
    "      print(newNode.get_data() + \" is assigned as the head of the list!\")"
   ]
  },
  {
   "cell_type": "markdown",
   "metadata": {
    "id": "jmijSMQ5_DiB"
   },
   "source": [
    "## Example: Implement a linked list"
   ]
  },
  {
   "cell_type": "markdown",
   "metadata": {
    "id": "hwndE1U2QMxr"
   },
   "source": [
    "We instantiate a new linked list."
   ]
  },
  {
   "cell_type": "code",
   "execution_count": null,
   "metadata": {
    "id": "EqawNW5pQGl6"
   },
   "outputs": [],
   "source": [
    "LL1 = LinkedList()"
   ]
  },
  {
   "cell_type": "markdown",
   "metadata": {
    "id": "N-W5TpFLQQk5"
   },
   "source": [
    "Check if the list is empty."
   ]
  },
  {
   "cell_type": "code",
   "execution_count": null,
   "metadata": {
    "colab": {
     "base_uri": "https://localhost:8080/"
    },
    "id": "whTOBopkQPyY",
    "outputId": "894a37fd-058d-40f8-842f-28ce57f926da"
   },
   "outputs": [
    {
     "data": {
      "text/plain": [
       "True"
      ]
     },
     "execution_count": 5,
     "metadata": {},
     "output_type": "execute_result"
    }
   ],
   "source": [
    "LL1.is_empty()"
   ]
  },
  {
   "cell_type": "markdown",
   "metadata": {
    "id": "7jxD-YeLQWdd"
   },
   "source": [
    "This shows that our new linked list object is empty because there is no head node assigned.  Printing the list should say the same."
   ]
  },
  {
   "cell_type": "code",
   "execution_count": null,
   "metadata": {
    "colab": {
     "base_uri": "https://localhost:8080/",
     "height": 35
    },
    "id": "HaJWYSoHQLOt",
    "outputId": "472b0e92-4c04-4fb3-8ab7-95942e29b374"
   },
   "outputs": [
    {
     "data": {
      "application/vnd.google.colaboratory.intrinsic+json": {
       "type": "string"
      },
      "text/plain": [
       "'List is empty!'"
      ]
     },
     "execution_count": 6,
     "metadata": {},
     "output_type": "execute_result"
    }
   ],
   "source": [
    "LL1.print_list()"
   ]
  },
  {
   "cell_type": "markdown",
   "metadata": {
    "id": "WdRyAGxzQ1QE"
   },
   "source": [
    "Now, let's try to add 1 element."
   ]
  },
  {
   "cell_type": "code",
   "execution_count": null,
   "metadata": {
    "colab": {
     "base_uri": "https://localhost:8080/"
    },
    "id": "9o4CpoZ3M8ET",
    "outputId": "052f2cfb-5ede-4c05-8db5-efec358144c8"
   },
   "outputs": [
    {
     "name": "stdout",
     "output_type": "stream",
     "text": [
      "Node for A is created!\n",
      "A is assigned as the head of the list!\n"
     ]
    }
   ],
   "source": [
    "LL1.add_element(\"A\")"
   ]
  },
  {
   "cell_type": "markdown",
   "metadata": {
    "id": "iOqIqQ9MQ856"
   },
   "source": [
    "Node A is assigned as the head of the list because the previous list is empty.  Let's confirm this by checking `is_empty()` again and see if the response has changed."
   ]
  },
  {
   "cell_type": "code",
   "execution_count": null,
   "metadata": {
    "colab": {
     "base_uri": "https://localhost:8080/"
    },
    "id": "kofKwCHeNS5Y",
    "outputId": "6b45dbe1-bb07-49b8-af5c-e27d55214ada"
   },
   "outputs": [
    {
     "data": {
      "text/plain": [
       "False"
      ]
     },
     "execution_count": 8,
     "metadata": {},
     "output_type": "execute_result"
    }
   ],
   "source": [
    "LL1.is_empty()"
   ]
  },
  {
   "cell_type": "markdown",
   "metadata": {
    "id": "zJpWRWptRK94"
   },
   "source": [
    "Now, let's add more elements at the end of our linked list."
   ]
  },
  {
   "cell_type": "code",
   "execution_count": null,
   "metadata": {
    "colab": {
     "base_uri": "https://localhost:8080/"
    },
    "id": "MIm8zeoLOMIW",
    "outputId": "527936dc-02ce-4e38-aa15-f798e5a132da"
   },
   "outputs": [
    {
     "name": "stdout",
     "output_type": "stream",
     "text": [
      "Node for B is created!\n",
      "B is inserted to the list!\n"
     ]
    }
   ],
   "source": [
    "LL1.add_element(\"B\")"
   ]
  },
  {
   "cell_type": "code",
   "execution_count": null,
   "metadata": {
    "colab": {
     "base_uri": "https://localhost:8080/"
    },
    "id": "LnVrYl-qOS7t",
    "outputId": "08fcb6b9-e2a3-4c7c-9803-9027f71d990d"
   },
   "outputs": [
    {
     "name": "stdout",
     "output_type": "stream",
     "text": [
      "Node for C is created!\n",
      "C is inserted to the list!\n"
     ]
    }
   ],
   "source": [
    "LL1.add_element(\"C\")"
   ]
  },
  {
   "cell_type": "markdown",
   "metadata": {
    "id": "3ExOTZ7gRidS"
   },
   "source": [
    "Let's see the current state of our list by printing it."
   ]
  },
  {
   "cell_type": "code",
   "execution_count": null,
   "metadata": {
    "colab": {
     "base_uri": "https://localhost:8080/",
     "height": 35
    },
    "id": "1IMFD8LLRhfB",
    "outputId": "ccfe70ef-8e9e-4588-a858-76b4d07950ca"
   },
   "outputs": [
    {
     "data": {
      "application/vnd.google.colaboratory.intrinsic+json": {
       "type": "string"
      },
      "text/plain": [
       "'A, B, C'"
      ]
     },
     "execution_count": 11,
     "metadata": {},
     "output_type": "execute_result"
    }
   ],
   "source": [
    "LL1.print_list()"
   ]
  },
  {
   "cell_type": "markdown",
   "metadata": {
    "id": "JiVlaF2tSdp3"
   },
   "source": [
    "Let's test our `insert` function by inserting D between B and C."
   ]
  },
  {
   "cell_type": "code",
   "execution_count": null,
   "metadata": {
    "colab": {
     "base_uri": "https://localhost:8080/"
    },
    "id": "Jryk0QxTSQe0",
    "outputId": "29e90cc1-3a79-43da-d9f3-71c4f0598aad"
   },
   "outputs": [
    {
     "name": "stdout",
     "output_type": "stream",
     "text": [
      "D is now inserted at index 2!\n"
     ]
    }
   ],
   "source": [
    "LL1.insert(2,\"D\")"
   ]
  },
  {
   "cell_type": "code",
   "execution_count": null,
   "metadata": {
    "colab": {
     "base_uri": "https://localhost:8080/",
     "height": 35
    },
    "id": "sZKD9DlqSqZy",
    "outputId": "773b2d5b-df00-49e6-dfe3-383f690a2085"
   },
   "outputs": [
    {
     "data": {
      "application/vnd.google.colaboratory.intrinsic+json": {
       "type": "string"
      },
      "text/plain": [
       "'A, B, D, C'"
      ]
     },
     "execution_count": 13,
     "metadata": {},
     "output_type": "execute_result"
    }
   ],
   "source": [
    "LL1.print_list()"
   ]
  },
  {
   "cell_type": "markdown",
   "metadata": {
    "id": "OYcJWWh3UIGN"
   },
   "source": [
    "Through this demonstration, we have seen how to create a linked list, how it is initialized and how to add or insert elements into the list. \n",
    "\n",
    "## Programming Assignment (10 pts) \n",
    "Extend our class `LinkedList` to include the following functions:\n",
    "*   `pop`: removes the last node in the linked list (5 pts)\n",
    "*   `remove`: removes the node at a specified index (5 pts)\n",
    "\n",
    "Use the existing functions that we set up for the class `Node`. \n",
    "\n",
    "__BONUS__: Get an extra 5 points by implementing `replace` function, which allows the user to replace the data at the specified index. \n",
    "\n",
    "Note: To simplify our lives, consider string elements only.  If you input numbers, make sure that they are treated as strings. "
   ]
  },
  {
   "cell_type": "markdown",
   "metadata": {
    "id": "pNe8XL6BVFRT"
   },
   "source": [
    "\n",
    "\n",
    "---\n"
   ]
  },
  {
   "cell_type": "markdown",
   "metadata": {
    "id": "D6REHwVQVG1E"
   },
   "source": [
    "# Stacks\n",
    "\n",
    "Stacks have similar properties as linked lists such that each node is linked on to the next one, except that removing an element is only possible at the top of the stack. We can use what we learned from implementing linked list in implementing stacks.\n",
    "\n",
    "Before we begin, let's create first our class `Stack` with it's usual functions:\n",
    "\n",
    "\n",
    "*   `is_empty()`: to check if the stack is empty\n",
    "*   `peek()`: to see the element/node at the top of the stack\n",
    "*   `print_stack()`: to print the elements in the stack\n"
   ]
  },
  {
   "cell_type": "code",
   "execution_count": null,
   "metadata": {
    "id": "YUAJOVthZyvp"
   },
   "outputs": [],
   "source": [
    "class Stack:\n",
    "    def __init__(self, head = None):\n",
    "        self.head = head\n",
    "\n",
    "    def is_empty(self):\n",
    "        return self.head == None\n",
    "\n",
    "    def peek(self):\n",
    "        return self.head.get_data() if not self.is_empty() else print(\"Stack is empty!\")\n",
    "\n",
    "    def print_stack(self):\n",
    "        if not self.is_empty():\n",
    "            current = self.head\n",
    "            result = current.get_data()\n",
    "\n",
    "            while(current.next):\n",
    "                current = current.next\n",
    "                result = current.get_data() + \", \" + result\n",
    "        \n",
    "            return result\n",
    "        else:\n",
    "            return \"List is empty!\""
   ]
  },
  {
   "cell_type": "markdown",
   "metadata": {
    "id": "c1-JfxJTYLl_"
   },
   "source": [
    "## Pushing an element\n",
    "\n",
    "Pushing an element to the stack refers to adding a new element at the top of the stack.  To understand how this should work, let's recall how to add an element to the linked list.  \n",
    "\n",
    "Our earlier implementation adds the new element at the end of the list.  This process involves traversing from the head of the list to the end of the link.  From what we established before, traversing the nodes would take `O(n)` runtime, with *n* as the number of linked nodes.  However, this is unnecessary from a stack perspective! Imagine stacking plates but you have to start looking from the bottom plate and slowly go up to the top.  If the plates are higher than you, then you will have difficult time to see the top.  \n",
    "\n",
    "What if, instead of adding the element at the end of the link, we add the element at the start of the linked list? This means that at the start (empty stack), the first element is the head and the last element of the stack.  Once we add the next element, the former head becomes the bottom element of the stack while the new element becomes the head.  As we add new elements, this continues to happen.  The stack still knows the head or top of the stack without traversing the entire link, making adding or pushing a new element more efficient at `O(1)`.  "
   ]
  },
  {
   "cell_type": "code",
   "execution_count": null,
   "metadata": {
    "id": "UBQjKW0nTPtb"
   },
   "outputs": [],
   "source": [
    "def push(self, data):\n",
    "    # Create a node object for the new data\n",
    "    newNode = Node(data)\n",
    "    print(\"Node for \" + str(newNode.get_data()) + \" is created!\")\n",
    "    \n",
    "    # Check if stack is empty \n",
    "    if not self.is_empty():\n",
    "        # Link the new node to the current head node\n",
    "        newNode.set_next(self.head)\n",
    "\n",
    "        # Set the new node as the new head node.\n",
    "        self.head = newNode\n",
    "\n",
    "        print(self.head.get_data() + \" is pushed to the stack!\")\n",
    "        \n",
    "    else:\n",
    "        # Assign the new node as the head of the linked list\n",
    "        self.head = newNode\n",
    "        print(newNode.get_data() + \" is assigned as the head of the stack!\")"
   ]
  },
  {
   "cell_type": "markdown",
   "metadata": {
    "id": "a9nLRTtCdRaR"
   },
   "source": [
    "Notice that we removed the while loop, which is the source of the `O(n)` runtime.  Now, pushing an element runs at `O(1)`."
   ]
  },
  {
   "cell_type": "markdown",
   "metadata": {
    "id": "aFSln2dddvhH"
   },
   "source": [
    "## Popping a stack\n",
    "Popping an element refers to removing the top or head element of the stack. If you were able to implement the `pop` function in class `LinkedList`, then you should have a general idea on how this works.\n",
    "\n",
    "Unlike our original implementation of linked list, where we traverse the link and remove the end of the link, we can simply repoint the `head` pointer to the node next to the current head node and then unlink the old head node. "
   ]
  },
  {
   "cell_type": "code",
   "execution_count": null,
   "metadata": {
    "id": "JDS0E4tLbS51"
   },
   "outputs": [],
   "source": [
    "def pop(self):\n",
    "    # Check if linked list is empty\n",
    "    if not self.is_empty():\n",
    "        # Set head node as current node\n",
    "        current = self.head\n",
    "\n",
    "        # Assign the node next to current node as the new head node\n",
    "        self.head = current.get_next()\n",
    "\n",
    "        # Unlink the old head node from the link\n",
    "        current.unlink()\n",
    "    \n",
    "        # Return the popped node\n",
    "        print(current.get_data() + \" is popped from the stack!\")\n",
    "        return current\n",
    "    \n",
    "    else:\n",
    "        print(\"Stack is empty!\")"
   ]
  },
  {
   "cell_type": "markdown",
   "metadata": {
    "id": "9f7cSA4zFgnE"
   },
   "source": [
    "Let's merge the `push()` and `pop()` functions to the class `Stack`."
   ]
  },
  {
   "cell_type": "code",
   "execution_count": 3,
   "metadata": {
    "id": "nFdGZ3gsFPtz"
   },
   "outputs": [],
   "source": [
    "class Stack:\n",
    "    def __init__(self, head = None):\n",
    "        self.head = head\n",
    "\n",
    "    def is_empty(self):\n",
    "        return self.head == None\n",
    "\n",
    "    def peek(self):\n",
    "        return self.head.get_data() if not self.is_empty() else print(\"Stack is empty!\")\n",
    "\n",
    "    def print_stack(self):\n",
    "        if not self.is_empty():\n",
    "            current = self.head\n",
    "            result = current.get_data()\n",
    "\n",
    "            while(current.next):\n",
    "                current = current.next\n",
    "                result = current.get_data() + \", \" + result\n",
    "        \n",
    "            return result\n",
    "        else:\n",
    "            return \"List is empty!\"\n",
    "\n",
    "    def push(self, data):\n",
    "        # Create a node object for the new data\n",
    "        newNode = Node(data)\n",
    "        print(\"Node for \" + str(newNode.get_data()) + \" is created!\")\n",
    "    \n",
    "        # Check if stack is empty\n",
    "        if not self.is_empty():\n",
    "            # Link the new node to the current head node\n",
    "            newNode.set_next(self.head)\n",
    "\n",
    "          # Set the new node as the new head node.\n",
    "            self.head = newNode\n",
    "\n",
    "            print(self.head.get_data() + \" is pushed to the stack!\")\n",
    "        else:\n",
    "            # Assign the new node as the head of the linked list\n",
    "            self.head = newNode\n",
    "            print(newNode.get_data() + \" is assigned as the head of the stack!\")\n",
    "\n",
    "    def pop(self):\n",
    "        # Check if linked list is empty\n",
    "        if not self.is_empty():\n",
    "            # Set head node as current node\n",
    "            current = self.head\n",
    "\n",
    "            # Assign the node next to current node as the new head node\n",
    "            self.head = current.get_next()\n",
    "\n",
    "            # Unlink the old head node from the link\n",
    "            current.unlink()\n",
    "        \n",
    "            # Return the popped node\n",
    "            print(current.get_data() + \" is popped from the stack!\")\n",
    "            return current.get_data()\n",
    "        else:\n",
    "            print(\"Stack is empty!\")"
   ]
  },
  {
   "cell_type": "markdown",
   "metadata": {
    "id": "KOAszU7m-6qE"
   },
   "source": [
    "## Example: Implement a Stack"
   ]
  },
  {
   "cell_type": "markdown",
   "metadata": {
    "id": "Z1W6nI29JMvs"
   },
   "source": [
    "Initialize a stack"
   ]
  },
  {
   "cell_type": "code",
   "execution_count": 4,
   "metadata": {
    "id": "MJtLM4FyJLnd"
   },
   "outputs": [],
   "source": [
    "S1 = Stack()"
   ]
  },
  {
   "cell_type": "markdown",
   "metadata": {
    "id": "0QBEl181JcXM"
   },
   "source": [
    "Try peeking"
   ]
  },
  {
   "cell_type": "code",
   "execution_count": 5,
   "metadata": {
    "colab": {
     "base_uri": "https://localhost:8080/"
    },
    "id": "GQBz_V4dJPmL",
    "outputId": "6c07dbe9-6e94-45af-aa40-d9fd23b5f742"
   },
   "outputs": [
    {
     "name": "stdout",
     "output_type": "stream",
     "text": [
      "Stack is empty!\n"
     ]
    }
   ],
   "source": [
    "S1.peek()"
   ]
  },
  {
   "cell_type": "markdown",
   "metadata": {
    "id": "girxfgd62RvY"
   },
   "source": [
    "Our `peek()` works for empty stack scenario.  Now, let's add elements into our stack."
   ]
  },
  {
   "cell_type": "code",
   "execution_count": 6,
   "metadata": {
    "colab": {
     "base_uri": "https://localhost:8080/"
    },
    "id": "XuBIqYReJlK0",
    "outputId": "775998a5-3066-4bc5-ff02-f82d05c323c6"
   },
   "outputs": [
    {
     "ename": "NameError",
     "evalue": "name 'Node' is not defined",
     "output_type": "error",
     "traceback": [
      "\u001b[1;31m---------------------------------------------------------------------------\u001b[0m",
      "\u001b[1;31mNameError\u001b[0m                                 Traceback (most recent call last)",
      "Input \u001b[1;32mIn [6]\u001b[0m, in \u001b[0;36m<cell line: 1>\u001b[1;34m()\u001b[0m\n\u001b[1;32m----> 1\u001b[0m \u001b[43mS1\u001b[49m\u001b[38;5;241;43m.\u001b[39;49m\u001b[43mpush\u001b[49m\u001b[43m(\u001b[49m\u001b[38;5;124;43m\"\u001b[39;49m\u001b[38;5;124;43mA\u001b[39;49m\u001b[38;5;124;43m\"\u001b[39;49m\u001b[43m)\u001b[49m\n",
      "Input \u001b[1;32mIn [3]\u001b[0m, in \u001b[0;36mStack.push\u001b[1;34m(self, data)\u001b[0m\n\u001b[0;32m     24\u001b[0m \u001b[38;5;28;01mdef\u001b[39;00m \u001b[38;5;21mpush\u001b[39m(\u001b[38;5;28mself\u001b[39m, data):\n\u001b[0;32m     25\u001b[0m     \u001b[38;5;66;03m# Create a node object for the new data\u001b[39;00m\n\u001b[1;32m---> 26\u001b[0m     newNode \u001b[38;5;241m=\u001b[39m \u001b[43mNode\u001b[49m(data)\n\u001b[0;32m     27\u001b[0m     \u001b[38;5;28mprint\u001b[39m(\u001b[38;5;124m\"\u001b[39m\u001b[38;5;124mNode for \u001b[39m\u001b[38;5;124m\"\u001b[39m \u001b[38;5;241m+\u001b[39m \u001b[38;5;28mstr\u001b[39m(newNode\u001b[38;5;241m.\u001b[39mget_data()) \u001b[38;5;241m+\u001b[39m \u001b[38;5;124m\"\u001b[39m\u001b[38;5;124m is created!\u001b[39m\u001b[38;5;124m\"\u001b[39m)\n\u001b[0;32m     29\u001b[0m     \u001b[38;5;66;03m# Check if stack is empty\u001b[39;00m\n",
      "\u001b[1;31mNameError\u001b[0m: name 'Node' is not defined"
     ]
    }
   ],
   "source": [
    "S1.push(\"A\")"
   ]
  },
  {
   "cell_type": "code",
   "execution_count": null,
   "metadata": {
    "colab": {
     "base_uri": "https://localhost:8080/"
    },
    "id": "SEABsmiiPgkh",
    "outputId": "6744c5c9-1cb5-4875-ff7d-eacb2a850e5d"
   },
   "outputs": [
    {
     "name": "stdout",
     "output_type": "stream",
     "text": [
      "Node for B is created!\n",
      "B is pushed to the stack!\n"
     ]
    }
   ],
   "source": [
    "S1.push(\"B\")"
   ]
  },
  {
   "cell_type": "code",
   "execution_count": null,
   "metadata": {
    "colab": {
     "base_uri": "https://localhost:8080/"
    },
    "id": "Vx53mB-EPiI6",
    "outputId": "43239ec7-9c79-431f-ca70-e8d1ed78494e"
   },
   "outputs": [
    {
     "name": "stdout",
     "output_type": "stream",
     "text": [
      "Node for C is created!\n",
      "C is pushed to the stack!\n"
     ]
    }
   ],
   "source": [
    "S1.push(\"C\")"
   ]
  },
  {
   "cell_type": "markdown",
   "metadata": {
    "id": "922hFRRM2dk-"
   },
   "source": [
    "Now that we have elements, let's try peeking our stack."
   ]
  },
  {
   "cell_type": "code",
   "execution_count": null,
   "metadata": {
    "colab": {
     "base_uri": "https://localhost:8080/",
     "height": 35
    },
    "id": "MPlWXP892hJe",
    "outputId": "a99255ad-3e01-42ce-d9a5-6d1e03b01073"
   },
   "outputs": [
    {
     "data": {
      "application/vnd.google.colaboratory.intrinsic+json": {
       "type": "string"
      },
      "text/plain": [
       "'C'"
      ]
     },
     "execution_count": 30,
     "metadata": {},
     "output_type": "execute_result"
    }
   ],
   "source": [
    "S1.peek()"
   ]
  },
  {
   "cell_type": "markdown",
   "metadata": {
    "id": "dxKB7RTo2p4Z"
   },
   "source": [
    "So far, our `peek()` works for a populated stack. Let's try printing our entire stack.  `print_stack()` reads this way: the first element is the bottom of the stack while the last element is the top of the stack. "
   ]
  },
  {
   "cell_type": "code",
   "execution_count": null,
   "metadata": {
    "colab": {
     "base_uri": "https://localhost:8080/",
     "height": 35
    },
    "id": "9chY98L4PoFh",
    "outputId": "94012ecb-3f4e-4f0f-df68-252172d2b879"
   },
   "outputs": [
    {
     "data": {
      "application/vnd.google.colaboratory.intrinsic+json": {
       "type": "string"
      },
      "text/plain": [
       "'A, B, C'"
      ]
     },
     "execution_count": 31,
     "metadata": {},
     "output_type": "execute_result"
    }
   ],
   "source": [
    "S1.print_stack()"
   ]
  },
  {
   "cell_type": "markdown",
   "metadata": {
    "id": "ksMrq1fS27Dt"
   },
   "source": [
    "Let's try to remove elements from our stack using the `pop()` function *(Hey Google! Play Pop by Nayeon)*"
   ]
  },
  {
   "cell_type": "code",
   "execution_count": null,
   "metadata": {
    "colab": {
     "base_uri": "https://localhost:8080/"
    },
    "id": "MYmgjNUhS1ZY",
    "outputId": "aaae2edd-f559-4cbd-ed15-e3b981f6a6da"
   },
   "outputs": [
    {
     "name": "stdout",
     "output_type": "stream",
     "text": [
      "C is popped from the stack!\n"
     ]
    },
    {
     "data": {
      "text/plain": [
       "<__main__.Node at 0x7f38c8e06450>"
      ]
     },
     "execution_count": 11,
     "metadata": {},
     "output_type": "execute_result"
    }
   ],
   "source": [
    "S1.pop()"
   ]
  },
  {
   "cell_type": "code",
   "execution_count": null,
   "metadata": {
    "colab": {
     "base_uri": "https://localhost:8080/",
     "height": 35
    },
    "id": "GIrJCppy2FQC",
    "outputId": "0486c6c7-d615-4bd3-bbe3-64f3cfd38ffe"
   },
   "outputs": [
    {
     "data": {
      "application/vnd.google.colaboratory.intrinsic+json": {
       "type": "string"
      },
      "text/plain": [
       "'A, B'"
      ]
     },
     "execution_count": 12,
     "metadata": {},
     "output_type": "execute_result"
    }
   ],
   "source": [
    "S1.print_stack()"
   ]
  },
  {
   "cell_type": "markdown",
   "metadata": {
    "id": "a_alEamS4-Iw"
   },
   "source": [
    "Our `pop()` function works and it is verified by the `print_stack()` function. Let's continue emptying our list."
   ]
  },
  {
   "cell_type": "code",
   "execution_count": null,
   "metadata": {
    "colab": {
     "base_uri": "https://localhost:8080/"
    },
    "id": "sKNFG-qb2HWn",
    "outputId": "e80c13f4-05d6-4933-a173-8097398933f3"
   },
   "outputs": [
    {
     "name": "stdout",
     "output_type": "stream",
     "text": [
      "B is popped from the stack!\n"
     ]
    },
    {
     "data": {
      "text/plain": [
       "<__main__.Node at 0x7f38c8e06d10>"
      ]
     },
     "execution_count": 13,
     "metadata": {},
     "output_type": "execute_result"
    }
   ],
   "source": [
    "S1.pop()"
   ]
  },
  {
   "cell_type": "code",
   "execution_count": null,
   "metadata": {
    "colab": {
     "base_uri": "https://localhost:8080/"
    },
    "id": "ApUKEyHn2JJx",
    "outputId": "8199bc18-9dd1-4d4b-fe36-a8a04fb27334"
   },
   "outputs": [
    {
     "name": "stdout",
     "output_type": "stream",
     "text": [
      "A is popped from the stack!\n"
     ]
    },
    {
     "data": {
      "text/plain": [
       "<__main__.Node at 0x7f38c8e06950>"
      ]
     },
     "execution_count": 14,
     "metadata": {},
     "output_type": "execute_result"
    }
   ],
   "source": [
    "S1.pop()"
   ]
  },
  {
   "cell_type": "code",
   "execution_count": null,
   "metadata": {
    "colab": {
     "base_uri": "https://localhost:8080/"
    },
    "id": "cg5jmzXh2Krz",
    "outputId": "1e912f14-ebde-4498-ca8b-0bc1766bbdaf"
   },
   "outputs": [
    {
     "name": "stdout",
     "output_type": "stream",
     "text": [
      "Stack is empty!\n"
     ]
    }
   ],
   "source": [
    "S1.pop()"
   ]
  },
  {
   "cell_type": "markdown",
   "metadata": {
    "id": "AuDz3bgc820M"
   },
   "source": [
    "Now, we have seen how to implement a stack or Last-In-First-Out (LIFO) queue using linked list method.\n",
    "\n",
    "\n",
    "---\n",
    "\n"
   ]
  },
  {
   "cell_type": "markdown",
   "metadata": {
    "id": "mQmEmESn9LPg"
   },
   "source": [
    "# Queues\n",
    "\n",
    "Unlike a stack, queues implement a First-In-First-Out (FIFO) method.  This means that a queue knows two nodes in our chain of nodes, the head and the tail.\n"
   ]
  },
  {
   "cell_type": "markdown",
   "metadata": {
    "id": "0WB81AYq-2vy"
   },
   "source": [
    "## Programming Assignment (10 points)\n",
    "You have seen two ways of implementing adding and removing elements in a link of nodes.  Using these two approaches, come up with a class `Queue` which does the following (2 points each):\n",
    "\n",
    "*   `is_empty()`: checks if the queue is empty\n",
    "*   `peek()`: returns the element stored in the head node\n",
    "*   `print_queue()`: returns the elements in the queue (first = tail; last = head)\n",
    "*   `push()`: adds an element at the tail of the queue \n",
    "*   `pop()`: removes the element at the head of the queue "
   ]
  }
 ],
 "metadata": {
  "colab": {
   "provenance": [],
   "toc_visible": true
  },
  "kernelspec": {
   "display_name": "Python 3 (ipykernel)",
   "language": "python",
   "name": "python3"
  },
  "language_info": {
   "codemirror_mode": {
    "name": "ipython",
    "version": 3
   },
   "file_extension": ".py",
   "mimetype": "text/x-python",
   "name": "python",
   "nbconvert_exporter": "python",
   "pygments_lexer": "ipython3",
   "version": "3.8.10"
  }
 },
 "nbformat": 4,
 "nbformat_minor": 1
}
