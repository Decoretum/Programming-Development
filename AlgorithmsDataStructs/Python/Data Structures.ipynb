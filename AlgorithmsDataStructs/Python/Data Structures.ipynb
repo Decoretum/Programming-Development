{
 "cells": [
  {
   "cell_type": "code",
   "execution_count": 1,
   "id": "98de6d8e",
   "metadata": {},
   "outputs": [],
   "source": [
    "#Data Structures"
   ]
  },
  {
   "cell_type": "code",
   "execution_count": 2,
   "id": "b4dde56b",
   "metadata": {},
   "outputs": [
    {
     "data": {
      "text/plain": [
       "'\\nArrays\\nYou know memory address of each element\\nYou can use this to read random elements\\nIf other memory slots are occupied, computer looks for n-slot shelves \\n= Entire array will move to a space with additional n-slot, which is slow\\n=to add or subtract, create duplicate of array with additional slot for additional element\\nimmutable\\n\\nLists/ArrayLists\\nEasily insert/delete item\\nDrawback is, you need to look for each memory slot in the memory\\nmutable = changeable\\n\\nRuntimes\\n\\n                    Array      List\\nReading             O(1)       O(n)\\nInserting/deletion  O(n)       O(1) \\n\\nQueues \\nSet of elements placed orderly alongside each other\\n- Stack\\n= Last in first out policy (computer only knows the top of the stack)\\n\\n=push (add element to top slot of queu)\\n=pp (remove last element of queu, which is from the top, which is from javascript)\\n\\n=peek, remove topmost element without removing it from stack\\n=count (len)\\n=clear/empty\\n\\n-Queu\\n=knows front and back of the queu\\n=when adding, you add at back of queu (enqueu)\\n=when subtracting elements, you pop the elements on top of queu (dequeu)\\n=peek, remove topmost element without removing it from queu\\n=count (len)\\n=clear/empty\\n\\n\\n'"
      ]
     },
     "execution_count": 2,
     "metadata": {},
     "output_type": "execute_result"
    }
   ],
   "source": [
    "\"\"\"\n",
    "Arrays\n",
    "You know memory address of each element\n",
    "You can use this to read random elements\n",
    "If other memory slots are occupied, computer looks for n-slot shelves \n",
    "= Entire array will move to a space with additional n-slot, which is slow\n",
    "=to add or subtract, create duplicate of array with additional slot for additional element\n",
    "immutable\n",
    "\n",
    "Lists/ArrayLists\n",
    "Easily insert/delete item\n",
    "Drawback is, you need to look for each memory slot in the memory\n",
    "mutable = changeable\n",
    "\n",
    "Runtimes\n",
    "\n",
    "                    Array      List\n",
    "Reading             O(1)       O(n)\n",
    "Inserting/deletion  O(n)       O(1) \n",
    "\n",
    "Queues \n",
    "Set of elements placed orderly alongside each other\n",
    "\n",
    "- Stack\n",
    "= Last in first out policy (computer only knows the top of the stack)\n",
    "\n",
    "=push (add element to top slot of queu)\n",
    "=pop(remove last element of queu, which is from the top, which is from javascript)\n",
    "\n",
    "=peek, retrieve topmost element without removing it from stack\n",
    "=count (len)\n",
    "=clear/empty\n",
    "\n",
    "-Queue\n",
    "=knows front and back of the queu\n",
    "=when adding, you add at back (beggining) of queu (enqueu)\n",
    "=when subtracting elements, you remove oldest elements (beggining) of queu (dequeu)\n",
    "=peek, retrieve firstmost element without removing it from queu\n",
    "=count (len)\n",
    "=clear/empty\n",
    "\n",
    "\n",
    "\"\"\""
   ]
  },
  {
   "cell_type": "code",
   "execution_count": null,
   "id": "a429db48",
   "metadata": {},
   "outputs": [],
   "source": [
    "\"\"\"\n",
    "Linked Lists\n",
    "from https://realpython.com/linked-lists-python/\n",
    "\n",
    "Each element of link list is Node\n",
    "Each node has 2 fields:\n",
    "- data = value stored in node\n",
    "- next = reference to next node of the list \n",
    "\n",
    "linked list is a collection of nodes\n",
    "first node is head, last node must have its \"next\" referencing to \"None\" to mark end of list\n",
    "\n",
    "Element retrieval\n",
    "- O(n) time complexity because you need to traverse the whole linked list to find element\n",
    "\n",
    "\"\"\""
   ]
  },
  {
   "cell_type": "code",
   "execution_count": 1,
   "id": "f6ce989a",
   "metadata": {},
   "outputs": [],
   "source": [
    "class Node:\n",
    "    def __init__(self, data = None, next=None): \n",
    "        self.data = data\n",
    "        self.next = next\n",
    "\n",
    "    def set_data(self, data):\n",
    "        self.data = data\n",
    "\n",
    "    def delete_data(self):\n",
    "        self.data = None\n",
    "\n",
    "    def set_next(self, next):\n",
    "        self.next = next\n",
    "\n",
    "    def unlink(self):\n",
    "        self.next = None\n",
    "\n",
    "    def get_data(self):\n",
    "        return str(self.data)\n",
    "\n",
    "    def get_next(self):\n",
    "        return self.next"
   ]
  },
  {
   "cell_type": "code",
   "execution_count": 15,
   "id": "b2e0287a",
   "metadata": {},
   "outputs": [],
   "source": [
    "class LinkedList:\n",
    "    def __init__(self, head = None):\n",
    "        self.head = head\n",
    "\n",
    "    def is_empty(self):\n",
    "        return self.head == None\n",
    "\n",
    "    def get_head(self):\n",
    "        return self.head if not self.is_empty() else None\n",
    "\n",
    "    def print_list(self):\n",
    "        if not self.is_empty():\n",
    "            current = self.head\n",
    "            result = current.get_data()\n",
    "\n",
    "            while(current.next):\n",
    "                current = current.next\n",
    "                result = result + \", \" + current.get_data()\n",
    "        \n",
    "            print(result)\n",
    "        else:\n",
    "            print(\"List is empty!\")\n",
    "\n",
    "    def add_element(self, data):\n",
    "        # Create a node object for the new data\n",
    "        newNode = Node(data)\n",
    "        print(\"Node for \" + str(newNode.get_data()) + \" is created!\")\n",
    "\n",
    "        # Check if linked list is empty\n",
    "        if not self.is_empty():\n",
    "          # Set head node as current node\n",
    "            current = self.head\n",
    "\n",
    "          # Traverse the nodes until the last node is reached.  Last node is represented as next = None.\n",
    "            while (current.next):\n",
    "                current = current.next\n",
    "            \n",
    "          # Now at the last node, we assign the new node as the next node to the current end node, making the new node the new end node.\n",
    "            current.set_next(newNode)\n",
    "            print(current.get_next().get_data() + \" is inserted to the list!\")\n",
    "            \n",
    "        else:\n",
    "            # Assign the new node as the head of the linked list\n",
    "            self.head = newNode\n",
    "            print(newNode.get_data() + \" is assigned as the head of the list!\")\n",
    "            \n",
    "\n",
    "    def insert(self, index, data):\n",
    "        # Create a node object for the new data\n",
    "        newNode = Node(data)\n",
    "\n",
    "        # Check if linked list is empty\n",
    "        if not self.is_empty():\n",
    "          # Instantiate the counter\n",
    "            i = 0\n",
    "            \n",
    "            # Set head node as current node and instantiate another for node i-1\n",
    "            next = self.get_head()\n",
    "            previous = None\n",
    "\n",
    "          # Traverse the nodes until we arrive at the intended index\n",
    "            while (next.next and i < index):\n",
    "                previous = next\n",
    "                next = next.next\n",
    "                i += 1\n",
    "\n",
    "          # Two scenarios: either we arrive at end of the link or not\n",
    "\n",
    "          # Check if we are the end of the link or not\n",
    "            if not next.next:\n",
    "                previous.set_next(newNode)  # Step 1\n",
    "                newNode.set_next(next)      # Step 2\n",
    "                print(previous.next.get_data() + \" is now inserted at index \" + str(index) + \"!\")\n",
    "            else:\n",
    "                previous.set_next(newNode)  # Similar to add_element()\n",
    "                newNode.set_next(next)\n",
    "                print(previous.next.get_data() + \" is added to the list!\")\n",
    "\n",
    "        else:\n",
    "      # Assign the new node as the head of the linked list\n",
    "          self.head = newNode\n",
    "          print(newNode.get_data() + \" is assigned as the head of the list!\")\n",
    "            \n",
    "    def remove(self, index):\n",
    "        verdict = ''\n",
    "        if not self.is_empty():\n",
    "            if index == 0:\n",
    "                oldhead = self.head\n",
    "                newhead = self.head.next\n",
    "                self.head = newhead\n",
    "                verdict = \"Removed head {}\".format(oldhead.get_data())\n",
    "                oldhead.unlink()\n",
    "                oldhead.delete_data()\n",
    "            else:\n",
    "                i = 0\n",
    "                previous = None\n",
    "                next = self.get_head()\n",
    "                while(next.next and i<index):\n",
    "                    previous = next\n",
    "                    next = next.next\n",
    "                    i+=1\n",
    "                current = next\n",
    "                newconnector = current.next\n",
    "                verdict = \"Node {} removed at position {}\".format(current.get_data(),index)\n",
    "                current.unlink()\n",
    "                current.delete_data()\n",
    "                previous.next = newconnector\n",
    "        print(verdict)\n",
    "        \n",
    "    def pop(self):\n",
    "        verdict = ''\n",
    "        if not self.is_empty():\n",
    "            now = self.head\n",
    "            back = None\n",
    "            while(now.next):\n",
    "                back = now\n",
    "                now = now.next\n",
    "            verdict = \"Node {} has been removed from the end of the linked list\".format(now.get_data())\n",
    "            current = now\n",
    "            back.unlink()\n",
    "            current.delete_data()\n",
    "        print(verdict)\n",
    "    \n",
    "        \n",
    "\n",
    "    def replace(self,node,index):\n",
    "        nodej = Node(node)\n",
    "        verdict = ''\n",
    "        if not self.is_empty():\n",
    "            if index == 0:\n",
    "                oldhead = self.head\n",
    "                newhead = self.head.next\n",
    "                self.head = nodej\n",
    "                self.head.next = newhead\n",
    "                verdict = \"Removed head {} and replaced it with Node {}\".format(oldhead.get_data(),nodej.get_data())\n",
    "                oldhead.unlink()\n",
    "                oldhead.delete_data()\n",
    "            else:\n",
    "                i = 0\n",
    "                previous = None\n",
    "                next = self.get_head()\n",
    "                while(next.next and i<index):\n",
    "                    previous = next\n",
    "                    next = next.next\n",
    "                    i+=1\n",
    "                current = next\n",
    "                newconnector = current.next\n",
    "                verdict = \"Node {} replaced by Node {} at position {}\".format(current.get_data(), nodej.get_data(),index)\n",
    "                current.unlink()\n",
    "                current.delete_data()\n",
    "                previous.next = nodej\n",
    "                nodej.next = newconnector\n",
    "        print(verdict)"
   ]
  },
  {
   "cell_type": "code",
   "execution_count": 16,
   "id": "a2011f19",
   "metadata": {},
   "outputs": [
    {
     "name": "stdout",
     "output_type": "stream",
     "text": [
      "14, 125, 51, 91, 91\n",
      "Node 51 replaced by Node 69 at position 2\n",
      "14, 125, 69, 91, 91\n",
      "Node 125 removed at position 1\n",
      "14, 69, 91, 91\n",
      "Node 91 has been removed from the end of the linked list\n",
      "Node 91 has been removed from the end of the linked list\n",
      "14, 69\n",
      "124 is now inserted at index 1!\n",
      "14, 124, 69\n"
     ]
    }
   ],
   "source": [
    "Gael = LinkedList()\n",
    "Baby1 = Node(14)\n",
    "Baby2 = Node(125)\n",
    "Baby3 = Node(51)\n",
    "Baby4 = Node(91)\n",
    "Baby5 = Node(91)\n",
    "Gael.head = Baby1\n",
    "Baby1.next = Baby2\n",
    "Baby2.next = Baby3\n",
    "Baby3.next = Baby4\n",
    "Baby4.next = Baby5\n",
    "Gael.print_list()\n",
    "Gael.replace(69,2)\n",
    "Gael.print_list()\n",
    "Gael.remove(1)\n",
    "Gael.print_list()\n",
    "Gael.pop()\n",
    "Gael.pop()\n",
    "Gael.print_list()\n",
    "Gael.insert(1,124)\n",
    "Gael.print_list()"
   ]
  },
  {
   "cell_type": "code",
   "execution_count": 8,
   "id": "42ced14a",
   "metadata": {},
   "outputs": [],
   "source": [
    "'''Stack is similar to linked list (has interconnected nodes), but stacks only know the top or \n",
    "first node of the collection'''\n",
    "class Stack:\n",
    "    def __init__(self, head = None):\n",
    "        self.head = head\n",
    "\n",
    "    def is_empty(self):\n",
    "        return self.head == None\n",
    "\n",
    "    def peek(self):\n",
    "        return self.head.get_data() if not self.is_empty() else print(\"Stack is empty!\")\n",
    "\n",
    "    def print_stack(self):\n",
    "        if not self.is_empty():\n",
    "            current = self.head\n",
    "            result = current.get_data()\n",
    "\n",
    "            while(current.next):\n",
    "                current = current.next\n",
    "                result = current.get_data() + \" <-- \" + result\n",
    "        \n",
    "            return result\n",
    "        else:\n",
    "            return \"List is empty!\"\n",
    "\n",
    "    def push(self, data):\n",
    "        # Create a node object for the new data\n",
    "        newNode = Node(data)\n",
    "        print(\"Node for \" + str(newNode.get_data()) + \" is created!\")\n",
    "    \n",
    "        # Check if stack is empty\n",
    "        if not self.is_empty():\n",
    "            # Link the new node to the current head node\n",
    "            newNode.set_next(self.head)\n",
    "\n",
    "          # Set the new node as the new head node.\n",
    "            self.head = newNode\n",
    "\n",
    "            print(self.head.get_data() + \" is pushed to the stack!\")\n",
    "        else:\n",
    "            # Assign the new node as the head of the linked list\n",
    "            self.head = newNode\n",
    "            print(newNode.get_data() + \" is assigned as the head of the stack!\")\n",
    "\n",
    "    def pop(self):\n",
    "        # Check if linked list is empty\n",
    "        if not self.is_empty():\n",
    "            # Set head node as current node\n",
    "            current = self.head\n",
    "\n",
    "            # Assign the node next to current node as the new head node\n",
    "            self.head = current.get_next()\n",
    "\n",
    "            # Unlink the old head node from the link\n",
    "            current.unlink()\n",
    "        \n",
    "            # Return the popped node\n",
    "            print(current.get_data() + \" is popped from the stack!\")\n",
    "            return current.get_data()\n",
    "        else:\n",
    "            print(\"Stack is empty!\")"
   ]
  },
  {
   "cell_type": "code",
   "execution_count": 9,
   "id": "d7cad70f",
   "metadata": {},
   "outputs": [],
   "source": [
    "S1 = Stack()"
   ]
  },
  {
   "cell_type": "code",
   "execution_count": 10,
   "id": "c3b171da",
   "metadata": {},
   "outputs": [
    {
     "name": "stdout",
     "output_type": "stream",
     "text": [
      "Node for 5 is created!\n",
      "5 is assigned as the head of the stack!\n"
     ]
    }
   ],
   "source": [
    "S1.push(5)"
   ]
  },
  {
   "cell_type": "code",
   "execution_count": 11,
   "id": "c45390b9",
   "metadata": {},
   "outputs": [
    {
     "name": "stdout",
     "output_type": "stream",
     "text": [
      "Node for 10 is created!\n",
      "10 is pushed to the stack!\n"
     ]
    }
   ],
   "source": [
    "S1.push(10)"
   ]
  },
  {
   "cell_type": "code",
   "execution_count": 12,
   "id": "9c98eacb",
   "metadata": {},
   "outputs": [
    {
     "data": {
      "text/plain": [
       "'5 <-- 10'"
      ]
     },
     "execution_count": 12,
     "metadata": {},
     "output_type": "execute_result"
    }
   ],
   "source": [
    "S1.print_stack()"
   ]
  },
  {
   "cell_type": "code",
   "execution_count": 13,
   "id": "cdb6f698",
   "metadata": {},
   "outputs": [
    {
     "data": {
      "text/plain": [
       "'10'"
      ]
     },
     "execution_count": 13,
     "metadata": {},
     "output_type": "execute_result"
    }
   ],
   "source": [
    "S1.peek()"
   ]
  },
  {
   "cell_type": "code",
   "execution_count": 14,
   "id": "a3ffe97c",
   "metadata": {},
   "outputs": [
    {
     "name": "stdout",
     "output_type": "stream",
     "text": [
      "10 is popped from the stack!\n"
     ]
    },
    {
     "data": {
      "text/plain": [
       "'10'"
      ]
     },
     "execution_count": 14,
     "metadata": {},
     "output_type": "execute_result"
    }
   ],
   "source": [
    "S1.pop()"
   ]
  },
  {
   "cell_type": "code",
   "execution_count": 15,
   "id": "aff6f3b8",
   "metadata": {},
   "outputs": [
    {
     "data": {
      "text/plain": [
       "'5'"
      ]
     },
     "execution_count": 15,
     "metadata": {},
     "output_type": "execute_result"
    }
   ],
   "source": [
    "S1.print_stack()"
   ]
  },
  {
   "cell_type": "code",
   "execution_count": 16,
   "id": "2330bd2f",
   "metadata": {},
   "outputs": [
    {
     "data": {
      "text/plain": [
       "'5'"
      ]
     },
     "execution_count": 16,
     "metadata": {},
     "output_type": "execute_result"
    }
   ],
   "source": [
    "S1.peek()"
   ]
  },
  {
   "cell_type": "code",
   "execution_count": 174,
   "id": "82f0a252",
   "metadata": {},
   "outputs": [],
   "source": [
    "\"\"\"Queu is similar to a linked list, but it only knows head and tail, pushing is on tail of collection,\n",
    "pero popping occurs on the head of collection\"\"\"\n",
    "\n",
    "class Queue:\n",
    "    def __init__(self,head=None):\n",
    "        self.head = head \n",
    "        self.tail = ''\n",
    "            \n",
    "    def is_empty(self):\n",
    "        return self.head == None\n",
    "    def peek(self):\n",
    "        if not self.is_empty():\n",
    "            return self.head.get_data()\n",
    "        else:\n",
    "            return \"Queue is empty!\"\n",
    "    def push(self,node):\n",
    "        newnode = Node(node)\n",
    "        if not self.is_empty():\n",
    "            current = self.head   \n",
    "            previous = None\n",
    "            while(current.next):\n",
    "                previous = current\n",
    "                current = current.next\n",
    "            self.tail = current\n",
    "            if self.tail == None:\n",
    "                self.tail = newnode\n",
    "                self.head.next = newnode\n",
    "                print(newnode.get_data() + \" is pushed to the Queue!\")\n",
    "                \n",
    "            else:\n",
    "                self.tail.set_next(newnode)\n",
    "                print(newnode.get_data() + \" is pushed to the Queue!\")\n",
    "        else:\n",
    "            self.head = newnode\n",
    "            print(newnode.get_data() + \" is pushed to the Queue as the head!\")\n",
    "            \n",
    "    def pop(self):\n",
    "        if not self.is_empty():\n",
    "            print(\"Node {} has been removed from the head!\".format(self.head.get_data()))\n",
    "            newhead = self.head.next\n",
    "            self.head.unlink()\n",
    "            self.head = newhead\n",
    "        else:\n",
    "            print(\"Queue is empty!\")\n",
    "            \n",
    "            \n",
    "    \n",
    "    def print_queue(self):\n",
    "        if not self.is_empty():\n",
    "            current = self.head\n",
    "            result = current.get_data()\n",
    "\n",
    "            while(current.next):\n",
    "                current = current.next\n",
    "                result = current.get_data() + \" <- \" + result\n",
    "            \n",
    "            self.tail = current\n",
    "            print(result)\n",
    "        else:\n",
    "            print(\"Queue is empty!\")\n",
    "        \n",
    "    "
   ]
  },
  {
   "cell_type": "code",
   "execution_count": 171,
   "id": "fe5bbdb8",
   "metadata": {},
   "outputs": [
    {
     "name": "stdout",
     "output_type": "stream",
     "text": [
      "Lolo <- Destroyer <- AnakNiGael <- Gael\n",
      "Node Gael has been removed from the head!\n",
      "Lolo <- Destroyer <- AnakNiGael\n",
      "69 is pushed to the Queue!\n",
      "99 is pushed to the Queue!\n",
      "Node AnakNiGael has been removed from the head!\n",
      "99 <- 69 <- Lolo <- Destroyer\n"
     ]
    }
   ],
   "source": [
    "Q1 = Queue()\n",
    "NQ1 = Node(\"Gael\")\n",
    "NQ2 = Node(\"AnakNiGael\")\n",
    "NQ3 = Node(\"Destroyer\")\n",
    "NQ4 = Node(\"Lolo\")\n",
    "Q1.head = NQ1\n",
    "NQ1.next = NQ2\n",
    "NQ2.next = NQ3\n",
    "NQ3.next = NQ4\n",
    "\n",
    "\n",
    "Q1.pop()\n",
    "Q1.print_queue()\n",
    "Q1.push(69)\n",
    "Q1.push(99)\n",
    "Q1.pop()\n",
    "Q1.print_queue()\n"
   ]
  },
  {
   "cell_type": "code",
   "execution_count": 175,
   "id": "7f7fb87b",
   "metadata": {},
   "outputs": [
    {
     "data": {
      "text/plain": [
       "'Queue is empty!'"
      ]
     },
     "execution_count": 175,
     "metadata": {},
     "output_type": "execute_result"
    }
   ],
   "source": [
    "Q1 = Queue()\n",
    "Q1.peek()"
   ]
  },
  {
   "cell_type": "raw",
   "id": "658df566",
   "metadata": {},
   "source": [
    "\n",
    "Hash Table / hash map\n",
    "\n",
    "Fast retrieval of data\n",
    "Key-value pairs\n",
    "\n",
    "Hashing algorithm\n",
    "-calculation applied to a key to transform it into a memory address\n",
    "-for numeric keys, divide key by number of available addresses, n, and take the remainder\n",
    "= key modulo n\n",
    "\n",
    "-for alphanumeric keys, divide sum of ASCII values of key by total addresses, n, then take remainder\n",
    "= sum(ASCII) modulo n\n",
    "\n",
    "-folding method divides key into equal parts then gets sum of those parts, divided by total addresses,\n",
    "take remainder\n",
    "\n",
    "-Collision\n",
    "=occures when calculated memory address of one item in hash table is same as other item\n",
    "=Resolves:\n",
    "1. Open addressing\n",
    "    -Linear Probing (if occupied, check next space of hash table for empty slot)\n",
    "    -Plus 3 rehash ()\n",
    "2. Closed addressing\n",
    "    -Using linked lists for a memory address that has been initially occupied\n",
    "\n"
   ]
  },
  {
   "cell_type": "raw",
   "id": "0dae70d6",
   "metadata": {},
   "source": [
    "Graphs\n",
    "- models a set of connections between nodes or entities\n",
    "- ex. buildings with direct connections, road junctions connected with roads, people making friends on facebook\n",
    "- people infecting others during pandemic (network of human contact)\n",
    "\n",
    "- graph is G = (V, E) V is a set of vertices, E is a set of edges\n",
    "    = vertices are nodes\n",
    "    = edges are links "
   ]
  }
 ],
 "metadata": {
  "kernelspec": {
   "display_name": "Python 3 (ipykernel)",
   "language": "python",
   "name": "python3"
  },
  "language_info": {
   "codemirror_mode": {
    "name": "ipython",
    "version": 3
   },
   "file_extension": ".py",
   "mimetype": "text/x-python",
   "name": "python",
   "nbconvert_exporter": "python",
   "pygments_lexer": "ipython3",
   "version": "3.8.10"
  }
 },
 "nbformat": 4,
 "nbformat_minor": 5
}
