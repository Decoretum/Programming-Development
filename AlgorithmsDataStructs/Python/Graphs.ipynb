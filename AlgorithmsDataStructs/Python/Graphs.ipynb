{
 "cells": [
  {
   "cell_type": "raw",
   "id": "207d173c",
   "metadata": {},
   "source": [
    "Graph\n",
    "A graph models a set of connections between nodes or entities\n",
    "\n",
    "Mathematically, a graph G = (V, E) contains a set\n",
    "of vertices V and a set of edges E.\n",
    "• Vertices may also be referred to as nodes\n",
    "while edges may also be referred to as links.\n",
    "\n",
    "directed graphs = graphs that have nodes pointing with direction to other nodes\n"
   ]
  },
  {
   "cell_type": "raw",
   "id": "706fb63e",
   "metadata": {},
   "source": [
    "Graph Representation\n",
    "Two ways to represent graphs:\n",
    "1. Adjacency Matrix: n x n  matrix A with A sub ij = 1 if (i,j) is an edge\n",
    "• For weighted graphs, the edge value can be any number.\n",
    "• To check if (i,j) is an edge, it takes O(1).\n",
    "• To know all edges, it takes O(n^2).\n",
    "• Better for dense (|E| <= |V|^2) graphs\n",
    "\n",
    "2. Adjacency List: an array of linked lists, where the indices of the array correspond\n",
    "to the vertices of G and each list contains the adjacent vertices of the index\n",
    "A. -> B -> C\n",
    "B. -> A -> C\n",
    "C. -> A -> B -> D -> I\n",
    "D. -> C -> E\n",
    "E. -> D -> F -> I -> K\n",
    "F. -> E -> G -> H -> L\n",
    "G. -> F\n",
    "H. -> F\n",
    "• For weighted graph, weight of (i,j) can be stored on node j.\n",
    "• To check if (i,j) is an edge, it takes O(deg(i)).\n",
    "• To know all edges, it takes O(|V| + |E|).\n",
    "• Better for sparse (|E| << |V|^2) graphs"
   ]
  },
  {
   "cell_type": "raw",
   "id": "5e4cd143",
   "metadata": {},
   "source": [
    "Terminologies\n",
    "• Path – series of connected nodes from source\n",
    "to target nodes\n",
    "    ➢ From Rizal Library (B) to Gonzaga Hall (L):\n",
    "    B->C->D->E->K->L\n",
    "    ➢ A path is simple if all nodes are distinct.\n",
    "    \n",
    "• Connectedness – an undirected graph is\n",
    "connected if, for every pair of nodes i and j,\n",
    "there is a path between them.\n",
    "\n",
    "• Cycle – a path where the source and target\n",
    "nodes are the same\n",
    "    ➢ A cyclic graph is a graph containing a cycle.\n",
    "    ➢ An acyclic graph is a graph without a cycle."
   ]
  },
  {
   "cell_type": "raw",
   "id": "d5a07418",
   "metadata": {},
   "source": [
    "Common Problems in Graph Structure\n",
    "• s-t connectivity: Is there a path from node S to node T?\n",
    "- The breadth-first search (BFS) algorithm traverses all of the vertices in a graph from a start vertex.\n",
    "\n",
    "• s-t shortest path: What is the length of the shortest path\n",
    "    from node S to node T?\n",
    "• Minimum Spanning Tree: What is the minimum length\n",
    "    required to connect all nodes without having cycles?"
   ]
  },
  {
   "cell_type": "raw",
   "id": "88ca3b2c",
   "metadata": {},
   "source": [
    "Breadth First Search\n",
    "\n",
    "- visit closer nodes first instead of following one choice all the way to the end\n",
    "- Explore layer by layer by examining every node from a certain distance from the start, then increasing that distance by one level farther\n",
    "- uses queue!\n",
    "\n",
    "bfs(Graph graph, Vertex start) {\n",
    "    Queue<Vertex> perimeter = new Queue<>();\n",
    "    Set<Vertex> visited = new Set<>();\n",
    "\n",
    "    perimeter.add(start);\n",
    "    visited.add(start);\n",
    "\n",
    "    while (!perimeter.isEmpty()) {\n",
    "        Vertex from = perimeter.remove();\n",
    "        for (Edge edge : graph.neighbors(from)) {\n",
    "            Vertex to = edge.to();\n",
    "            if (!visited.contains(to)) {\n",
    "                perimeter.add(to);\n",
    "                visited.add(to);\n",
    "            }\n",
    "        }\n",
    "    }\n",
    "}\n",
    "\n",
    "Recursive Depth First Search\n",
    "\n",
    "- follow a path all the way to the end, then come back to revisit other choices!\n",
    "- uses stack :)\n",
    "\n",
    "Set<Vertex> visited = new Set<>();\n",
    "\n",
    "dfs(Graph graph, Vertex start) {\n",
    "    visited.add(start);\n",
    "    for (Edge edge : graph.neighbors(from)) {\n",
    "        Vertex to = edge.to();\n",
    "        if (!visited.contains(to)) {\n",
    "            dfs(graph, to);\n",
    "        }\n",
    "    }\n",
    "}\n"
   ]
  },
  {
   "cell_type": "raw",
   "id": "9c3a792a",
   "metadata": {},
   "source": [
    "Dijkstra’s algorithm\n",
    "\n",
    "Initialization:\n",
    "- Start vertex/node has a distance of 0 to itself. Nodes aside from vertex have distance of infinity to vertex\n",
    "- has \"known\" set which represents set of nodes that we know their path\n",
    "- has \"distTo\" map which represents \n"
   ]
  },
  {
   "cell_type": "raw",
   "id": "8310b0f4",
   "metadata": {},
   "source": [
    "Minimum spanning tree\n",
    "- V-1 edges of a graph is the exact amount of edges needed to connect all vertices\n",
    "- adding 1 edge makes a cycle \n",
    "- a tree wherein for every node, there is only 1 path that connects it to another node\n",
    "\n",
    "- every vertex touch at least edge\n",
    "- the graph using just those edges is connected\n",
    "- the total weight of these edges is minimized\n",
    "\n",
    "-connected\n",
    "-acyclic\n",
    "-span the whole graph"
   ]
  }
 ],
 "metadata": {
  "kernelspec": {
   "display_name": "Python 3 (ipykernel)",
   "language": "python",
   "name": "python3"
  },
  "language_info": {
   "codemirror_mode": {
    "name": "ipython",
    "version": 3
   },
   "file_extension": ".py",
   "mimetype": "text/x-python",
   "name": "python",
   "nbconvert_exporter": "python",
   "pygments_lexer": "ipython3",
   "version": "3.8.10"
  }
 },
 "nbformat": 4,
 "nbformat_minor": 5
}
